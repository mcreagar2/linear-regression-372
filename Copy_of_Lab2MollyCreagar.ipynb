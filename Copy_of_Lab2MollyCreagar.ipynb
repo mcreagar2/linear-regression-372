{
  "nbformat": 4,
  "nbformat_minor": 0,
  "metadata": {
    "kernelspec": {
      "display_name": "Python 3",
      "language": "python",
      "name": "python3"
    },
    "language_info": {
      "codemirror_mode": {
        "name": "ipython",
        "version": 3
      },
      "file_extension": ".py",
      "mimetype": "text/x-python",
      "name": "python",
      "nbconvert_exporter": "python",
      "pygments_lexer": "ipython3",
      "version": "3.6.5"
    },
    "colab": {
      "name": "Copy of Lab2MollyCreagar.ipynb",
      "provenance": []
    }
  },
  "cells": [
    {
      "cell_type": "code",
      "metadata": {
        "id": "vspApNxEHlcj",
        "outputId": "6ff4267d-59fa-419c-8ba0-0b038eab218e",
        "colab": {
          "base_uri": "https://localhost:8080/",
          "height": 51
        }
      },
      "source": [
        "import rpy2.rinterface\n",
        "%load_ext rpy2.ipython\n",
        "import os\n",
        "import pandas as pd\n",
        "import matplotlib.pyplot as plt\n",
        "import numpy as np\n",
        "import statsmodels.api as sm\n",
        "import statsmodels.formula.api as smf\n",
        "from scipy.stats import t as tdist\n",
        "from statsmodels.stats.outliers_influence import summary_table\n",
        "from statsmodels.sandbox.regression.predstd import wls_prediction_std as pi\n",
        "\n",
        "##In Python\n",
        "##Read in the data\n",
        "bikes = pd.read_csv('bike_share.csv', dtype=float)"
      ],
      "execution_count": 39,
      "outputs": [
        {
          "output_type": "stream",
          "text": [
            "The rpy2.ipython extension is already loaded. To reload it, use:\n",
            "  %reload_ext rpy2.ipython\n"
          ],
          "name": "stdout"
        }
      ]
    },
    {
      "cell_type": "code",
      "metadata": {
        "id": "P8ANY0emHlco"
      },
      "source": [
        "%%R\n",
        "##In R\n",
        "##Read in the data\n",
        "bikes <- read.csv(file = \"bike_share.csv\", header = T)\n",
        "n<-nrow(bikes)\n"
      ],
      "execution_count": 40,
      "outputs": []
    },
    {
      "cell_type": "code",
      "metadata": {
        "id": "GkqRBd5zHlcr",
        "outputId": "29459d4c-66af-49c4-8b1c-872dfb9d40ce",
        "colab": {
          "base_uri": "https://localhost:8080/",
          "height": 444
        }
      },
      "source": [
        "##part a -- In Python\n",
        "count = bikes[\"count\"] # number of bikes rented\n",
        "temp = bikes[\"temp\"] # temperature\n",
        "modelTemp = sm.OLS(count, sm.tools.tools.add_constant(temp), ).fit()\n",
        "modelTemp.summary()\n"
      ],
      "execution_count": 41,
      "outputs": [
        {
          "output_type": "execute_result",
          "data": {
            "text/html": [
              "<table class=\"simpletable\">\n",
              "<caption>OLS Regression Results</caption>\n",
              "<tr>\n",
              "  <th>Dep. Variable:</th>          <td>count</td>      <th>  R-squared:         </th> <td>   0.156</td> \n",
              "</tr>\n",
              "<tr>\n",
              "  <th>Model:</th>                   <td>OLS</td>       <th>  Adj. R-squared:    </th> <td>   0.156</td> \n",
              "</tr>\n",
              "<tr>\n",
              "  <th>Method:</th>             <td>Least Squares</td>  <th>  F-statistic:       </th> <td>   2006.</td> \n",
              "</tr>\n",
              "<tr>\n",
              "  <th>Date:</th>             <td>Sun, 25 Oct 2020</td> <th>  Prob (F-statistic):</th>  <td>  0.00</td>  \n",
              "</tr>\n",
              "<tr>\n",
              "  <th>Time:</th>                 <td>21:43:40</td>     <th>  Log-Likelihood:    </th> <td> -71125.</td> \n",
              "</tr>\n",
              "<tr>\n",
              "  <th>No. Observations:</th>      <td> 10886</td>      <th>  AIC:               </th> <td>1.423e+05</td>\n",
              "</tr>\n",
              "<tr>\n",
              "  <th>Df Residuals:</th>          <td> 10884</td>      <th>  BIC:               </th> <td>1.423e+05</td>\n",
              "</tr>\n",
              "<tr>\n",
              "  <th>Df Model:</th>              <td>     1</td>      <th>                     </th>     <td> </td>    \n",
              "</tr>\n",
              "<tr>\n",
              "  <th>Covariance Type:</th>      <td>nonrobust</td>    <th>                     </th>     <td> </td>    \n",
              "</tr>\n",
              "</table>\n",
              "<table class=\"simpletable\">\n",
              "<tr>\n",
              "    <td></td>       <th>coef</th>     <th>std err</th>      <th>t</th>      <th>P>|t|</th>  <th>[0.025</th>    <th>0.975]</th>  \n",
              "</tr>\n",
              "<tr>\n",
              "  <th>const</th> <td> -156.9856</td> <td>    7.945</td> <td>  -19.759</td> <td> 0.000</td> <td> -172.560</td> <td> -141.412</td>\n",
              "</tr>\n",
              "<tr>\n",
              "  <th>temp</th>  <td>    5.0947</td> <td>    0.114</td> <td>   44.783</td> <td> 0.000</td> <td>    4.872</td> <td>    5.318</td>\n",
              "</tr>\n",
              "</table>\n",
              "<table class=\"simpletable\">\n",
              "<tr>\n",
              "  <th>Omnibus:</th>       <td>1871.687</td> <th>  Durbin-Watson:     </th> <td>   0.369</td>\n",
              "</tr>\n",
              "<tr>\n",
              "  <th>Prob(Omnibus):</th>  <td> 0.000</td>  <th>  Jarque-Bera (JB):  </th> <td>3221.966</td>\n",
              "</tr>\n",
              "<tr>\n",
              "  <th>Skew:</th>           <td> 1.123</td>  <th>  Prob(JB):          </th> <td>    0.00</td>\n",
              "</tr>\n",
              "<tr>\n",
              "  <th>Kurtosis:</th>       <td> 4.434</td>  <th>  Cond. No.          </th> <td>    348.</td>\n",
              "</tr>\n",
              "</table><br/><br/>Warnings:<br/>[1] Standard Errors assume that the covariance matrix of the errors is correctly specified."
            ],
            "text/plain": [
              "<class 'statsmodels.iolib.summary.Summary'>\n",
              "\"\"\"\n",
              "                            OLS Regression Results                            \n",
              "==============================================================================\n",
              "Dep. Variable:                  count   R-squared:                       0.156\n",
              "Model:                            OLS   Adj. R-squared:                  0.156\n",
              "Method:                 Least Squares   F-statistic:                     2006.\n",
              "Date:                Sun, 25 Oct 2020   Prob (F-statistic):               0.00\n",
              "Time:                        21:43:40   Log-Likelihood:                -71125.\n",
              "No. Observations:               10886   AIC:                         1.423e+05\n",
              "Df Residuals:                   10884   BIC:                         1.423e+05\n",
              "Df Model:                           1                                         \n",
              "Covariance Type:            nonrobust                                         \n",
              "==============================================================================\n",
              "                 coef    std err          t      P>|t|      [0.025      0.975]\n",
              "------------------------------------------------------------------------------\n",
              "const       -156.9856      7.945    -19.759      0.000    -172.560    -141.412\n",
              "temp           5.0947      0.114     44.783      0.000       4.872       5.318\n",
              "==============================================================================\n",
              "Omnibus:                     1871.687   Durbin-Watson:                   0.369\n",
              "Prob(Omnibus):                  0.000   Jarque-Bera (JB):             3221.966\n",
              "Skew:                           1.123   Prob(JB):                         0.00\n",
              "Kurtosis:                       4.434   Cond. No.                         348.\n",
              "==============================================================================\n",
              "\n",
              "Warnings:\n",
              "[1] Standard Errors assume that the covariance matrix of the errors is correctly specified.\n",
              "\"\"\""
            ]
          },
          "metadata": {
            "tags": []
          },
          "execution_count": 41
        }
      ]
    },
    {
      "cell_type": "markdown",
      "metadata": {
        "id": "PHzHe385Hlcu"
      },
      "source": [
        ""
      ]
    },
    {
      "cell_type": "code",
      "metadata": {
        "id": "G_JJFRlhHlcu",
        "outputId": "ae04bba7-5787-4292-b85a-4ce93eb5e74e",
        "colab": {
          "base_uri": "https://localhost:8080/",
          "height": 51
        }
      },
      "source": [
        "#test h0 vs. ha\n",
        "beta1_hatTemp = modelTemp.params[1]\n",
        "sebeta1Temp = modelTemp.bse[1]\n",
        "tstatTemp = beta1_hatTemp / sebeta1Temp\n",
        "pvalTemp = 2 * (1 - tdist.cdf(np.abs(tstatTemp), df = 194))\n",
        "print(tdist.cdf(np.abs(tstatTemp), df = 194))\n",
        "print(\"The p-value for H0: beta1 = 0 is \", pvalTemp)"
      ],
      "execution_count": 42,
      "outputs": [
        {
          "output_type": "stream",
          "text": [
            "1.0\n",
            "The p-value for H0: beta1 = 0 is  0.0\n"
          ],
          "name": "stdout"
        }
      ]
    },
    {
      "cell_type": "code",
      "metadata": {
        "id": "hDxKid9WHlcx",
        "outputId": "0878c40e-eb49-4d28-a714-295bf52ae1a3",
        "colab": {
          "base_uri": "https://localhost:8080/",
          "height": 340
        }
      },
      "source": [
        "%%R\n",
        "##part a -- In R\n",
        "count <- bikes$count # number of bikes rented\n",
        "temp <- bikes$temp # temperature\n",
        "modelTemp <- lm(count ~ temp)\n",
        "summaryTemp <- summary(modelTemp)\n",
        "summaryTemp"
      ],
      "execution_count": 43,
      "outputs": [
        {
          "output_type": "stream",
          "text": [
            "\n",
            "Call:\n",
            "lm(formula = count ~ temp)\n",
            "\n",
            "Residuals:\n",
            "    Min      1Q  Median      3Q     Max \n",
            "-293.32 -112.36  -33.36   78.98  741.44 \n",
            "\n",
            "Coefficients:\n",
            "             Estimate Std. Error t value Pr(>|t|)    \n",
            "(Intercept) -156.9856     7.9451  -19.76   <2e-16 ***\n",
            "temp           5.0947     0.1138   44.78   <2e-16 ***\n",
            "---\n",
            "Signif. codes:  0 ‘***’ 0.001 ‘**’ 0.01 ‘*’ 0.05 ‘.’ 0.1 ‘ ’ 1\n",
            "\n",
            "Residual standard error: 166.5 on 10884 degrees of freedom\n",
            "Multiple R-squared:  0.1556,\tAdjusted R-squared:  0.1555 \n",
            "F-statistic:  2006 on 1 and 10884 DF,  p-value: < 2.2e-16\n",
            "\n"
          ],
          "name": "stdout"
        }
      ]
    },
    {
      "cell_type": "code",
      "metadata": {
        "id": "xt5gnwSGHlc2",
        "outputId": "5a8b4dde-2bfb-4295-d405-fbd105cf95c6",
        "colab": {
          "base_uri": "https://localhost:8080/",
          "height": 34
        }
      },
      "source": [
        "%%R\n",
        "#test h0 vs. ha\n",
        "beta1_hatTemp <- modelTemp$coefficients[2]\n",
        "sebeta1Temp <- summaryTemp$coefficients[2,2]\n",
        "tstatTemp <- beta1_hatTemp/sebeta1Temp\n",
        "pvalTemp <- 2 * (abs(pt(tstatTemp, df = 194, lower.tail = FALSE)))\n",
        "print(paste(\"The p-value for H0: beta1 = 0 is \", pvalTemp, sep = \"\"))"
      ],
      "execution_count": 44,
      "outputs": [
        {
          "output_type": "stream",
          "text": [
            "[1] \"The p-value for H0: beta1 = 0 is 3.07679364621289e-104\"\n"
          ],
          "name": "stdout"
        }
      ]
    },
    {
      "cell_type": "markdown",
      "metadata": {
        "id": "zlp8piMsHlc4"
      },
      "source": [
        "The regression coefficient $\\beta_1 = 5.0947$ can be interpreted as for every 1 degree increase in temperature, the hourly count of bike rentals increases by 5.09. From these p-values, we reject the null hypothesis ($\\beta_1 = 0$) in favor of the alternative hypothesis ($\\beta_1 \\neq 0$), as the likelihood we would see this data with $\\beta_1 =  0$ is essentially 0. Bike rentals do appear to be significantly influenced by temperature."
      ]
    },
    {
      "cell_type": "code",
      "metadata": {
        "id": "3h3fl2kWHlc5",
        "outputId": "f2dc7b5d-c7ae-4403-da33-27af0bbf1586",
        "colab": {
          "base_uri": "https://localhost:8080/",
          "height": 444
        }
      },
      "source": [
        "##part b -- In Python\n",
        "humidity = bikes[\"humidity\"] # humidity\n",
        "modelHumidity = sm.OLS(count, sm.tools.tools.add_constant(humidity), ).fit()\n",
        "modelHumidity.summary()"
      ],
      "execution_count": 45,
      "outputs": [
        {
          "output_type": "execute_result",
          "data": {
            "text/html": [
              "<table class=\"simpletable\">\n",
              "<caption>OLS Regression Results</caption>\n",
              "<tr>\n",
              "  <th>Dep. Variable:</th>          <td>count</td>      <th>  R-squared:         </th> <td>   0.101</td> \n",
              "</tr>\n",
              "<tr>\n",
              "  <th>Model:</th>                   <td>OLS</td>       <th>  Adj. R-squared:    </th> <td>   0.101</td> \n",
              "</tr>\n",
              "<tr>\n",
              "  <th>Method:</th>             <td>Least Squares</td>  <th>  F-statistic:       </th> <td>   1219.</td> \n",
              "</tr>\n",
              "<tr>\n",
              "  <th>Date:</th>             <td>Sun, 25 Oct 2020</td> <th>  Prob (F-statistic):</th> <td>2.92e-253</td>\n",
              "</tr>\n",
              "<tr>\n",
              "  <th>Time:</th>                 <td>21:43:40</td>     <th>  Log-Likelihood:    </th> <td> -71468.</td> \n",
              "</tr>\n",
              "<tr>\n",
              "  <th>No. Observations:</th>      <td> 10886</td>      <th>  AIC:               </th> <td>1.429e+05</td>\n",
              "</tr>\n",
              "<tr>\n",
              "  <th>Df Residuals:</th>          <td> 10884</td>      <th>  BIC:               </th> <td>1.430e+05</td>\n",
              "</tr>\n",
              "<tr>\n",
              "  <th>Df Model:</th>              <td>     1</td>      <th>                     </th>     <td> </td>    \n",
              "</tr>\n",
              "<tr>\n",
              "  <th>Covariance Type:</th>      <td>nonrobust</td>    <th>                     </th>     <td> </td>    \n",
              "</tr>\n",
              "</table>\n",
              "<table class=\"simpletable\">\n",
              "<tr>\n",
              "      <td></td>        <th>coef</th>     <th>std err</th>      <th>t</th>      <th>P>|t|</th>  <th>[0.025</th>    <th>0.975]</th>  \n",
              "</tr>\n",
              "<tr>\n",
              "  <th>const</th>    <td>  376.4456</td> <td>    5.545</td> <td>   67.890</td> <td> 0.000</td> <td>  365.577</td> <td>  387.315</td>\n",
              "</tr>\n",
              "<tr>\n",
              "  <th>humidity</th> <td>   -2.9873</td> <td>    0.086</td> <td>  -34.915</td> <td> 0.000</td> <td>   -3.155</td> <td>   -2.820</td>\n",
              "</tr>\n",
              "</table>\n",
              "<table class=\"simpletable\">\n",
              "<tr>\n",
              "  <th>Omnibus:</th>       <td>2068.515</td> <th>  Durbin-Watson:     </th> <td>   0.351</td>\n",
              "</tr>\n",
              "<tr>\n",
              "  <th>Prob(Omnibus):</th>  <td> 0.000</td>  <th>  Jarque-Bera (JB):  </th> <td>3709.739</td>\n",
              "</tr>\n",
              "<tr>\n",
              "  <th>Skew:</th>           <td> 1.210</td>  <th>  Prob(JB):          </th> <td>    0.00</td>\n",
              "</tr>\n",
              "<tr>\n",
              "  <th>Kurtosis:</th>       <td> 4.525</td>  <th>  Cond. No.          </th> <td>    218.</td>\n",
              "</tr>\n",
              "</table><br/><br/>Warnings:<br/>[1] Standard Errors assume that the covariance matrix of the errors is correctly specified."
            ],
            "text/plain": [
              "<class 'statsmodels.iolib.summary.Summary'>\n",
              "\"\"\"\n",
              "                            OLS Regression Results                            \n",
              "==============================================================================\n",
              "Dep. Variable:                  count   R-squared:                       0.101\n",
              "Model:                            OLS   Adj. R-squared:                  0.101\n",
              "Method:                 Least Squares   F-statistic:                     1219.\n",
              "Date:                Sun, 25 Oct 2020   Prob (F-statistic):          2.92e-253\n",
              "Time:                        21:43:40   Log-Likelihood:                -71468.\n",
              "No. Observations:               10886   AIC:                         1.429e+05\n",
              "Df Residuals:                   10884   BIC:                         1.430e+05\n",
              "Df Model:                           1                                         \n",
              "Covariance Type:            nonrobust                                         \n",
              "==============================================================================\n",
              "                 coef    std err          t      P>|t|      [0.025      0.975]\n",
              "------------------------------------------------------------------------------\n",
              "const        376.4456      5.545     67.890      0.000     365.577     387.315\n",
              "humidity      -2.9873      0.086    -34.915      0.000      -3.155      -2.820\n",
              "==============================================================================\n",
              "Omnibus:                     2068.515   Durbin-Watson:                   0.351\n",
              "Prob(Omnibus):                  0.000   Jarque-Bera (JB):             3709.739\n",
              "Skew:                           1.210   Prob(JB):                         0.00\n",
              "Kurtosis:                       4.525   Cond. No.                         218.\n",
              "==============================================================================\n",
              "\n",
              "Warnings:\n",
              "[1] Standard Errors assume that the covariance matrix of the errors is correctly specified.\n",
              "\"\"\""
            ]
          },
          "metadata": {
            "tags": []
          },
          "execution_count": 45
        }
      ]
    },
    {
      "cell_type": "code",
      "metadata": {
        "id": "aXFvki_uHlc8",
        "outputId": "4571fff4-a0d9-44fa-b8a7-f76d0ef2bde9",
        "colab": {
          "base_uri": "https://localhost:8080/",
          "height": 34
        }
      },
      "source": [
        "#test h0 vs. ha\n",
        "beta1_hatHum = modelHumidity.params[1]\n",
        "sebeta1Hum = modelHumidity.bse[1]\n",
        "tstatHum = beta1_hatHum / sebeta1Hum\n",
        "pvalHum = 2 * (1 - tdist.cdf(np.abs(tstatHum), df = 194))\n",
        "print(\"The p-value for H0: beta1 = 0 is \", pvalHum)"
      ],
      "execution_count": 46,
      "outputs": [
        {
          "output_type": "stream",
          "text": [
            "The p-value for H0: beta1 = 0 is  0.0\n"
          ],
          "name": "stdout"
        }
      ]
    },
    {
      "cell_type": "code",
      "metadata": {
        "id": "HiPhKm5EHlc_",
        "outputId": "e716407c-a404-43f8-c959-a0948834cdb8",
        "colab": {
          "base_uri": "https://localhost:8080/",
          "height": 340
        }
      },
      "source": [
        "%%R\n",
        "##part b -- In R\n",
        "humidity <- bikes$humidity # humidity\n",
        "modelHumidity <- lm(count ~ humidity)\n",
        "summaryHumidity <- summary(modelHumidity)\n",
        "summaryHumidity"
      ],
      "execution_count": 47,
      "outputs": [
        {
          "output_type": "stream",
          "text": [
            "\n",
            "Call:\n",
            "lm(formula = count ~ humidity)\n",
            "\n",
            "Residuals:\n",
            "    Min      1Q  Median      3Q     Max \n",
            "-375.45 -120.49  -41.86   82.15  734.73 \n",
            "\n",
            "Coefficients:\n",
            "             Estimate Std. Error t value Pr(>|t|)    \n",
            "(Intercept) 376.44561    5.54494   67.89   <2e-16 ***\n",
            "humidity     -2.98727    0.08556  -34.91   <2e-16 ***\n",
            "---\n",
            "Signif. codes:  0 ‘***’ 0.001 ‘**’ 0.01 ‘*’ 0.05 ‘.’ 0.1 ‘ ’ 1\n",
            "\n",
            "Residual standard error: 171.8 on 10884 degrees of freedom\n",
            "Multiple R-squared:  0.1007,\tAdjusted R-squared:  0.1006 \n",
            "F-statistic:  1219 on 1 and 10884 DF,  p-value: < 2.2e-16\n",
            "\n"
          ],
          "name": "stdout"
        }
      ]
    },
    {
      "cell_type": "code",
      "metadata": {
        "id": "ng4ApgscHldC",
        "outputId": "3de7d2ba-d01b-4a73-82e1-3b9583e95038",
        "colab": {
          "base_uri": "https://localhost:8080/",
          "height": 34
        }
      },
      "source": [
        "%%R\n",
        "#test h0 vs. ha\n",
        "beta1_hatHum <- modelHumidity$coefficients[2]\n",
        "sebeta1Hum <- summaryHumidity$coefficients[2,2]\n",
        "tstatHum <- beta1_hatHum/sebeta1Hum\n",
        "pvalHum <- 2 * (1-pt(tstatHum, df = 194, lower.tail = FALSE))\n",
        "print(paste(\"The p-value for H0: beta1 = 0 is \", pvalHum, sep = \"\"))"
      ],
      "execution_count": 48,
      "outputs": [
        {
          "output_type": "stream",
          "text": [
            "[1] \"The p-value for H0: beta1 = 0 is 0\"\n"
          ],
          "name": "stdout"
        }
      ]
    },
    {
      "cell_type": "markdown",
      "metadata": {
        "id": "redeHOzMHldE"
      },
      "source": [
        "Regression coefficient: $\\beta_1 = -2.987$. Interpretation: for every 1 percent increase in relative humidity, bike rentals decrease by 2.987. We reject the null hypothesis ($\\beta_1 = 0$) in favor of the alternative hypothesis ($\\beta_1 \\neq 0$), as the p-values indicate that the likelihood we would see this data with $\\beta_1 =  0$ is essentially 0. Therefore, yes, bike rentals appear to be significantly influenced by relative humidity."
      ]
    },
    {
      "cell_type": "code",
      "metadata": {
        "id": "ahd-KZOLHldF",
        "outputId": "3877c172-692e-426f-fccd-1fe303b261e0",
        "colab": {
          "base_uri": "https://localhost:8080/",
          "height": 444
        }
      },
      "source": [
        "##part c -- In Python\n",
        "windspeed = bikes[\"windspeed\"] # windspeed in mph\n",
        "modelWindspeed = sm.OLS(count, sm.tools.tools.add_constant(windspeed), ).fit()\n",
        "modelWindspeed.summary()"
      ],
      "execution_count": 49,
      "outputs": [
        {
          "output_type": "execute_result",
          "data": {
            "text/html": [
              "<table class=\"simpletable\">\n",
              "<caption>OLS Regression Results</caption>\n",
              "<tr>\n",
              "  <th>Dep. Variable:</th>          <td>count</td>      <th>  R-squared:         </th> <td>   0.010</td> \n",
              "</tr>\n",
              "<tr>\n",
              "  <th>Model:</th>                   <td>OLS</td>       <th>  Adj. R-squared:    </th> <td>   0.010</td> \n",
              "</tr>\n",
              "<tr>\n",
              "  <th>Method:</th>             <td>Least Squares</td>  <th>  F-statistic:       </th> <td>   113.0</td> \n",
              "</tr>\n",
              "<tr>\n",
              "  <th>Date:</th>             <td>Sun, 25 Oct 2020</td> <th>  Prob (F-statistic):</th> <td>2.90e-26</td> \n",
              "</tr>\n",
              "<tr>\n",
              "  <th>Time:</th>                 <td>21:43:40</td>     <th>  Log-Likelihood:    </th> <td> -71989.</td> \n",
              "</tr>\n",
              "<tr>\n",
              "  <th>No. Observations:</th>      <td> 10886</td>      <th>  AIC:               </th> <td>1.440e+05</td>\n",
              "</tr>\n",
              "<tr>\n",
              "  <th>Df Residuals:</th>          <td> 10884</td>      <th>  BIC:               </th> <td>1.440e+05</td>\n",
              "</tr>\n",
              "<tr>\n",
              "  <th>Df Model:</th>              <td>     1</td>      <th>                     </th>     <td> </td>    \n",
              "</tr>\n",
              "<tr>\n",
              "  <th>Covariance Type:</th>      <td>nonrobust</td>    <th>                     </th>     <td> </td>    \n",
              "</tr>\n",
              "</table>\n",
              "<table class=\"simpletable\">\n",
              "<tr>\n",
              "      <td></td>         <th>coef</th>     <th>std err</th>      <th>t</th>      <th>P>|t|</th>  <th>[0.025</th>    <th>0.975]</th>  \n",
              "</tr>\n",
              "<tr>\n",
              "  <th>const</th>     <td>  162.7876</td> <td>    3.212</td> <td>   50.682</td> <td> 0.000</td> <td>  156.492</td> <td>  169.084</td>\n",
              "</tr>\n",
              "<tr>\n",
              "  <th>windspeed</th> <td>    2.2491</td> <td>    0.212</td> <td>   10.630</td> <td> 0.000</td> <td>    1.834</td> <td>    2.664</td>\n",
              "</tr>\n",
              "</table>\n",
              "<table class=\"simpletable\">\n",
              "<tr>\n",
              "  <th>Omnibus:</th>       <td>2086.612</td> <th>  Durbin-Watson:     </th> <td>   0.322</td>\n",
              "</tr>\n",
              "<tr>\n",
              "  <th>Prob(Omnibus):</th>  <td> 0.000</td>  <th>  Jarque-Bera (JB):  </th> <td>3633.799</td>\n",
              "</tr>\n",
              "<tr>\n",
              "  <th>Skew:</th>           <td> 1.247</td>  <th>  Prob(JB):          </th> <td>    0.00</td>\n",
              "</tr>\n",
              "<tr>\n",
              "  <th>Kurtosis:</th>       <td> 4.338</td>  <th>  Cond. No.          </th> <td>    28.3</td>\n",
              "</tr>\n",
              "</table><br/><br/>Warnings:<br/>[1] Standard Errors assume that the covariance matrix of the errors is correctly specified."
            ],
            "text/plain": [
              "<class 'statsmodels.iolib.summary.Summary'>\n",
              "\"\"\"\n",
              "                            OLS Regression Results                            \n",
              "==============================================================================\n",
              "Dep. Variable:                  count   R-squared:                       0.010\n",
              "Model:                            OLS   Adj. R-squared:                  0.010\n",
              "Method:                 Least Squares   F-statistic:                     113.0\n",
              "Date:                Sun, 25 Oct 2020   Prob (F-statistic):           2.90e-26\n",
              "Time:                        21:43:40   Log-Likelihood:                -71989.\n",
              "No. Observations:               10886   AIC:                         1.440e+05\n",
              "Df Residuals:                   10884   BIC:                         1.440e+05\n",
              "Df Model:                           1                                         \n",
              "Covariance Type:            nonrobust                                         \n",
              "==============================================================================\n",
              "                 coef    std err          t      P>|t|      [0.025      0.975]\n",
              "------------------------------------------------------------------------------\n",
              "const        162.7876      3.212     50.682      0.000     156.492     169.084\n",
              "windspeed      2.2491      0.212     10.630      0.000       1.834       2.664\n",
              "==============================================================================\n",
              "Omnibus:                     2086.612   Durbin-Watson:                   0.322\n",
              "Prob(Omnibus):                  0.000   Jarque-Bera (JB):             3633.799\n",
              "Skew:                           1.247   Prob(JB):                         0.00\n",
              "Kurtosis:                       4.338   Cond. No.                         28.3\n",
              "==============================================================================\n",
              "\n",
              "Warnings:\n",
              "[1] Standard Errors assume that the covariance matrix of the errors is correctly specified.\n",
              "\"\"\""
            ]
          },
          "metadata": {
            "tags": []
          },
          "execution_count": 49
        }
      ]
    },
    {
      "cell_type": "code",
      "metadata": {
        "id": "SvkN0R7vHldH",
        "outputId": "af7ff938-56a3-4f36-84f4-580f54e28e9d",
        "colab": {
          "base_uri": "https://localhost:8080/",
          "height": 34
        }
      },
      "source": [
        "beta1_hatWind = modelWindspeed.params[1]\n",
        "sebeta1Wind = modelWindspeed.bse[1]\n",
        "tstatWind = beta1_hatWind / sebeta1Wind\n",
        "pvalWind = 2 * (1 - tdist.cdf(np.abs(tstatWind), df = 194))\n",
        "print(\"The p-value for H0: beta1 = 0 is \", pvalWind)"
      ],
      "execution_count": 50,
      "outputs": [
        {
          "output_type": "stream",
          "text": [
            "The p-value for H0: beta1 = 0 is  0.0\n"
          ],
          "name": "stdout"
        }
      ]
    },
    {
      "cell_type": "code",
      "metadata": {
        "id": "nGJGDSmJHldK",
        "outputId": "ade3e5dc-12af-4f26-dcf1-f47b8fb09d28",
        "colab": {
          "base_uri": "https://localhost:8080/",
          "height": 340
        }
      },
      "source": [
        "%%R\n",
        "##part c -- In R\n",
        "windspeed <- bikes$windspeed # windspeed\n",
        "modelWindspeed <- lm(count ~ windspeed)\n",
        "summaryWindspeed <- summary(modelWindspeed)\n",
        "summaryWindspeed"
      ],
      "execution_count": 51,
      "outputs": [
        {
          "output_type": "stream",
          "text": [
            "\n",
            "Call:\n",
            "lm(formula = count ~ windspeed)\n",
            "\n",
            "Residuals:\n",
            "    Min      1Q  Median      3Q     Max \n",
            "-274.74 -145.29  -48.53   92.48  807.21 \n",
            "\n",
            "Coefficients:\n",
            "            Estimate Std. Error t value Pr(>|t|)    \n",
            "(Intercept) 162.7876     3.2120   50.68   <2e-16 ***\n",
            "windspeed     2.2491     0.2116   10.63   <2e-16 ***\n",
            "---\n",
            "Signif. codes:  0 ‘***’ 0.001 ‘**’ 0.01 ‘*’ 0.05 ‘.’ 0.1 ‘ ’ 1\n",
            "\n",
            "Residual standard error: 180.2 on 10884 degrees of freedom\n",
            "Multiple R-squared:  0.01028,\tAdjusted R-squared:  0.01018 \n",
            "F-statistic:   113 on 1 and 10884 DF,  p-value: < 2.2e-16\n",
            "\n"
          ],
          "name": "stdout"
        }
      ]
    },
    {
      "cell_type": "code",
      "metadata": {
        "id": "0ibF-r_SHldN",
        "outputId": "84e404f3-cbcb-4266-9fc5-ed8ccd08e6c9",
        "colab": {
          "base_uri": "https://localhost:8080/",
          "height": 34
        }
      },
      "source": [
        "%%R\n",
        "#test h0 vs. ha\n",
        "beta1_hatWind <- modelWindspeed$coefficients[2]\n",
        "sebeta1Wind <- summaryWindspeed$coefficients[2,2]\n",
        "tstatWind <- beta1_hatWind/sebeta1Wind\n",
        "pvalWind <- 2 * (abs(pt(tstatWind, df = 194, lower.tail = FALSE)))\n",
        "print(paste(\"The p-value for H0: beta1 = 0 is \", pvalWind, sep = \"\"))"
      ],
      "execution_count": 52,
      "outputs": [
        {
          "output_type": "stream",
          "text": [
            "[1] \"The p-value for H0: beta1 = 0 is 4.31281706708649e-21\"\n"
          ],
          "name": "stdout"
        }
      ]
    },
    {
      "cell_type": "markdown",
      "metadata": {
        "id": "gJscD9QQHldP"
      },
      "source": [
        "The regressionn coefficient $\\beta_1 = 2.2491$ means as the windspeed increases by 1 mile per hour, the number of bike rentals increases by 2.2491. We reject the null hypothesis ($\\beta_1 = 0$) in favor of the alternative hypothesis ($\\beta_1 \\neq 0$), as the p-values indicate that the likelihood we would see this data with $\\beta_1 =  0$ is essentially 0. Therefore, yes, bike rentals appear to be significantly influenced by windspeed."
      ]
    },
    {
      "cell_type": "code",
      "metadata": {
        "id": "08PUjgsaHldP",
        "outputId": "73451f6b-fabe-438b-85b2-fa81711dfb9e",
        "colab": {
          "base_uri": "https://localhost:8080/",
          "height": 308
        }
      },
      "source": [
        "##part d -- In Python\n",
        "beta0_hatTemp = modelTemp.params[0]\n",
        "sebeta0Temp = modelTemp.bse[0]\n",
        "x0Temp = np.linspace(temp.min(), temp.max(), 100)\n",
        "xpTemp = np.linspace(temp.min(), temp.max(), 100)\n",
        "mu_hatTemp = beta0_hatTemp + beta1_hatTemp * temp\n",
        "mu0_hatTemp = beta0_hatTemp +beta1_hatTemp *x0Temp\n",
        "n = bikes.shape[0]\n",
        "crit_val = tdist.ppf(0.975, df = n-2)\n",
        "sxxTemp = (n) * np.var(temp)\n",
        "sigma_hatTemp = np.sqrt(np.sum((count - mu_hatTemp)**2)/modelTemp.df_resid)\n",
        "se_mu0Temp = sigma_hatTemp * np.sqrt((1/n) + ((x0Temp-np.mean(temp))**2/sxxTemp))\n",
        "low_CLTemp = mu0_hatTemp - crit_val * se_mu0Temp\n",
        "upp_CLTemp = mu0_hatTemp + crit_val * se_mu0Temp\n",
        "temp_pred = np.linspace(temp.min(), temp.max(), 100)\n",
        "temp_pred_int = sm.tools.tools.add_constant(temp_pred)\n",
        "count_predTemp = modelTemp.predict(temp_pred_int)\n",
        "yp_hatTemp = beta0_hatTemp + beta1_hatTemp * xpTemp\n",
        "se_ypTemp = sigma_hatTemp * np.sqrt(1 + (1/n) + ((xpTemp-np.mean(temp))**2/sxxTemp))\n",
        "low_PLTemp = yp_hatTemp - crit_val * se_ypTemp\n",
        "upp_PLTemp = yp_hatTemp + crit_val * se_ypTemp\n",
        "fig = plt.figure()\n",
        "plt.scatter(temp, count, c = \"black\")\n",
        "fig.suptitle(\"# Bikes Rented vs. Temperature\")\n",
        "plt.ylabel(\"Number of Bikes Rented\")\n",
        "plt.xlabel(\"Temperature (in Degrees Fahrenheit)\")\n",
        "fitted_lineTemp, = plt.plot(temp_pred, count_predTemp, '-', color = \"red\", linewidth = 2, label = \"Fitted Values\")\n",
        "low_lineTemp, = plt.plot(x0Temp, low_CLTemp, '--', color = \"blue\", linewidth = 2, label = \"95% CI\")\n",
        "upp_lineTemp, = plt.plot(x0Temp, upp_CLTemp, '--', color = \"blue\", linewidth = 2, label = \"95% CI\")\n",
        "lowPI_lineTemp, = plt.plot(xpTemp, low_PLTemp, '--', color = \"green\", linewidth = 2, label = \"95% PI\") \n",
        "uppPI_lineTemp, = plt.plot(xpTemp, upp_PLTemp, '--', color = \"green\", linewidth = 2, label = \"95% PI\") \n",
        "legend = plt.legend(handles = [fitted_lineTemp, low_lineTemp, lowPI_lineTemp], loc = 1)"
      ],
      "execution_count": 53,
      "outputs": [
        {
          "output_type": "display_data",
          "data": {
            "image/png": "[encoded data removed]",
            "text/plain": [
              "<Figure size 432x288 with 1 Axes>"
            ]
          },
          "metadata": {
            "tags": [],
            "needs_background": "light"
          }
        }
      ]
    },
    {
      "cell_type": "code",
      "metadata": {
        "id": "D5jQt3slHldS",
        "outputId": "e1a11b56-72e4-4a23-944c-4b3548f41daa",
        "colab": {
          "base_uri": "https://localhost:8080/",
          "height": 308
        }
      },
      "source": [
        "beta0_hatHum = modelHumidity.params[0]\n",
        "sebeta0Hum = modelHumidity.bse[0]\n",
        "x0Hum = np.linspace(humidity.min(), humidity.max(), 100)\n",
        "xpHum = np.linspace(humidity.min(), humidity.max(), 100)\n",
        "mu_hatHum = beta0_hatHum + beta1_hatHum * humidity\n",
        "mu0_hatHum = beta0_hatHum +beta1_hatHum *x0Hum\n",
        "sxxHum = (n) * np.var(humidity)\n",
        "sigma_hatHum = np.sqrt(np.sum((count - mu_hatHum)**2)/modelHumidity.df_resid)\n",
        "se_mu0Hum = sigma_hatHum * np.sqrt((1/n) + ((x0Temp-np.mean(humidity))**2/sxxHum))\n",
        "low_CLHum = mu0_hatHum - crit_val * se_mu0Hum\n",
        "upp_CLHum = mu0_hatHum + crit_val * se_mu0Hum\n",
        "humidity_pred = np.linspace(humidity.min(), humidity.max(), 100)\n",
        "humidity_pred_int = sm.tools.tools.add_constant(humidity_pred)\n",
        "count_predHum = modelHumidity.predict(humidity_pred_int)\n",
        "yp_hatHum = beta0_hatHum + beta1_hatHum * xpHum\n",
        "se_ypHum = sigma_hatHum * np.sqrt(1 + (1/n) + ((xpHum-np.mean(humidity))**2/sxxHum))\n",
        "low_PLHum = yp_hatHum - crit_val * se_ypHum\n",
        "upp_PLHum = yp_hatHum + crit_val * se_ypHum\n",
        "fig = plt.figure()\n",
        "plt.scatter(humidity, count, c = \"black\")\n",
        "fig.suptitle(\"# Bikes Rented vs. Percent Humidity\")\n",
        "plt.ylabel(\"Number of Bikes Rented\")\n",
        "plt.xlabel(\"Humidity (Percent)\")\n",
        "fitted_lineHum, = plt.plot(humidity_pred, count_predHum, '-', color = \"red\", linewidth = 2, label = \"Fitted Values\")\n",
        "low_lineHum, = plt.plot(x0Hum, low_CLHum, '--', color = \"blue\", linewidth = 2, label = \"95% CI\")\n",
        "upp_lineHum, = plt.plot(x0Hum, upp_CLHum, '--', color = \"blue\", linewidth = 2, label = \"95% CI\")\n",
        "lowPI_lineHum, = plt.plot(xpHum, low_PLHum, '--', color = \"green\", linewidth = 2, label = \"95% PI\") \n",
        "uppPI_lineHum, = plt.plot(xpHum, upp_PLHum, '--', color = \"green\", linewidth = 2, label = \"95% PI\") \n",
        "legend = plt.legend(handles = [fitted_lineHum, low_lineHum, lowPI_lineHum], loc = 1)"
      ],
      "execution_count": 54,
      "outputs": [
        {
          "output_type": "display_data",
          "data": {
            "image/png": "[encoded data removed]",
            "text/plain": [
              "<Figure size 432x288 with 1 Axes>"
            ]
          },
          "metadata": {
            "tags": [],
            "needs_background": "light"
          }
        }
      ]
    },
    {
      "cell_type": "code",
      "metadata": {
        "id": "ZU6ke3x1HldV",
        "outputId": "4faa37d8-d0c9-48a6-e8b9-4f80b6700719",
        "colab": {
          "base_uri": "https://localhost:8080/",
          "height": 308
        }
      },
      "source": [
        "beta0_hatWind = modelWindspeed.params[0]\n",
        "sebeta0Wind = modelWindspeed.bse[0]\n",
        "x0Wind = np.linspace(windspeed.min(), windspeed.max(), 100)\n",
        "xpWind = np.linspace(windspeed.min(), windspeed.max(), 100)\n",
        "mu_hatWind = beta0_hatWind + beta1_hatWind * windspeed\n",
        "mu0_hatWind = beta0_hatWind +beta1_hatWind *x0Wind\n",
        "sxxWind = (n) * np.var(windspeed)\n",
        "sigma_hatWind = np.sqrt(np.sum((count - mu_hatWind)**2)/modelWindspeed.df_resid)\n",
        "se_mu0Wind = sigma_hatWind * np.sqrt((1/n) + ((x0Wind-np.mean(windspeed))**2/sxxWind))\n",
        "low_CLWind = mu0_hatWind - crit_val * se_mu0Wind\n",
        "upp_CLWind = mu0_hatWind + crit_val * se_mu0Wind\n",
        "windspeed_pred = np.linspace(windspeed.min(), windspeed.max(), 100)\n",
        "windspeed_pred_int = sm.tools.tools.add_constant(windspeed_pred)\n",
        "count_predWind = modelWindspeed.predict(windspeed_pred_int)\n",
        "yp_hatWind = beta0_hatWind + beta1_hatWind * xpWind\n",
        "se_ypWind = sigma_hatWind * np.sqrt(1 + (1/n) + ((xpWind-np.mean(windspeed))**2/sxxWind))\n",
        "low_PLWind = yp_hatWind - crit_val * se_ypWind\n",
        "upp_PLWind = yp_hatWind + crit_val * se_ypWind\n",
        "fig = plt.figure()\n",
        "plt.scatter(windspeed, count, c = \"black\")\n",
        "fig.suptitle(\"# Bikes Rented vs. Windspeed\")\n",
        "plt.ylabel(\"Number of Bikes Rented\")\n",
        "plt.xlabel(\"Windspeed (in Miles per Hour)\")\n",
        "fitted_lineWind, = plt.plot(windspeed_pred, count_predWind, '-', color = \"red\", linewidth = 2, label = \"Fitted Values\")\n",
        "low_lineWind, = plt.plot(x0Wind, low_CLWind, '--', color = \"blue\", linewidth = 2, label = \"95% CI\")\n",
        "upp_lineWind, = plt.plot(x0Wind, upp_CLWind, '--', color = \"blue\", linewidth = 2, label = \"95% CI\")\n",
        "lowPI_lineWind, = plt.plot(xpWind, low_PLWind, '--', color = \"green\", linewidth = 2, label = \"95% PI\") \n",
        "uppPI_lineWind, = plt.plot(xpWind, upp_PLWind, '--', color = \"green\", linewidth = 2, label = \"95% PI\") \n",
        "legend = plt.legend(handles = [fitted_lineWind, low_lineWind, lowPI_lineWind], loc = 1)"
      ],
      "execution_count": 55,
      "outputs": [
        {
          "output_type": "display_data",
          "data": {
            "image/png": "[encoded data removed]",
            "text/plain": [
              "<Figure size 432x288 with 1 Axes>"
            ]
          },
          "metadata": {
            "tags": [],
            "needs_background": "light"
          }
        }
      ]
    },
    {
      "cell_type": "code",
      "metadata": {
        "id": "kaYdGcvDHldX",
        "outputId": "cf1c1e9c-1954-4c33-ccf7-519610d713c7",
        "colab": {
          "base_uri": "https://localhost:8080/",
          "height": 497
        }
      },
      "source": [
        "%%R\n",
        "##part d -- in R\n",
        "beta0_hatTemp <- summaryTemp$coefficients[1,1]\n",
        "se_beta0Temp <- summaryTemp$coefficients[1,2]\n",
        "crit_val <- qt(p = 0.975, df = n-2, lower.tail = TRUE)\n",
        "x0Temp <- seq(from = min(temp), to = max(temp), length.out = 100)\n",
        "mu_hatTemp <- beta0_hatTemp + beta1_hatTemp * temp\n",
        "mu0_hatTemp <- beta0_hatTemp + beta1_hatTemp * x0Temp\n",
        "n <- dim(bikes)[1]\n",
        "sxxTemp <- (n) * var(temp)\n",
        "sigma_hatTemp <- sqrt(sum((count - mu_hatTemp)^2)/modelTemp$df.residual)\n",
        "se_mu0Temp <- sigma_hatTemp * sqrt((1/n) + ((x0Temp-mean(temp))^2/sxxTemp))\n",
        "low_CLTemp <- mu0_hatTemp - crit_val * se_mu0Temp\n",
        "upp_CLTemp <- mu0_hatTemp + crit_val * se_mu0Temp\n",
        "xpTemp <- seq(from = min(temp), to = max(temp), length.out = 100)\n",
        "yp_hatTemp <- beta0_hatTemp + beta1_hatTemp * xpTemp\n",
        "se_ypTemp <- sigma_hatTemp * sqrt(1 + (1/n) + ((xpTemp-mean(temp))^2/sxxTemp))\n",
        "low_PLTemp <- yp_hatTemp - crit_val * se_ypTemp\n",
        "upp_PLTemp <- yp_hatTemp + crit_val * se_ypTemp\n",
        "plot(temp, count, ylab = \"Number of Bikes Rented\", xlab = \"Temperature (in Degrees Fahrenheit)\", main = \"# Bikes Rented vs. Temperature\", pch = 16)\n",
        "abline(modelTemp, col = \"red\", lwd = 2)\n",
        "lines(x0Temp, low_CLTemp, col = \"blue\", lwd = 2, lty = 2)\n",
        "lines(x0Temp, upp_CLTemp, col = \"blue\", lwd = 2, lty = 2)\n",
        "lines(xpTemp, low_PLTemp, col = \"green\", lwd = 2, lty = 2)\n",
        "lines(xpTemp, upp_PLTemp, col = \"green\", lwd = 2, lty = 2)\n",
        "legend(\"topright\", legend = c(\"Fitted Values\", \"95% CI\", \"95% PI\"), lwd = c(2,2,2), lty = c(1,2,2), col = c(\"red\", \"blue\", \"green\"))"
      ],
      "execution_count": 56,
      "outputs": [
        {
          "output_type": "display_data",
          "data": {
            "image/png": "[encoded data removed]"
          },
          "metadata": {
            "tags": []
          }
        }
      ]
    },
    {
      "cell_type": "code",
      "metadata": {
        "id": "P39iQdAbHlda",
        "outputId": "726b07b2-2ca8-4e36-85fc-402ba194774a",
        "colab": {
          "base_uri": "https://localhost:8080/",
          "height": 497
        }
      },
      "source": [
        "%%R\n",
        "beta0_hatHum <- summaryHumidity$coefficients[1,1]\n",
        "se_beta0Hum <- summaryHumidity$coefficients[1,2]\n",
        "x0Hum <- seq(from = min(humidity), to = max(humidity), length.out = 100)\n",
        "mu_hatHum <- beta0_hatHum + beta1_hatHum * humidity\n",
        "mu0_hatHum <- beta0_hatHum + beta1_hatHum * x0Hum\n",
        "sxxHum <- (n) * var(humidity)\n",
        "sigma_hatHum <- sqrt(sum((count - mu_hatHum)^2)/modelHumidity$df.residual)\n",
        "se_mu0Hum <- sigma_hatHum * sqrt((1/n) + ((x0Temp-mean(humidity))^2/sxxHum))\n",
        "low_CLHum <- mu0_hatHum - crit_val * se_mu0Hum\n",
        "upp_CLHum <- mu0_hatHum + crit_val * se_mu0Hum\n",
        "xpHum <- seq(from = min(humidity), to = max(humidity), length.out = 100)\n",
        "yp_hatHum <- beta0_hatHum + beta1_hatHum * xpHum\n",
        "se_ypHum <- sigma_hatHum * sqrt(1 + (1/n) + ((xpHum-mean(humidity))^2/sxxHum))\n",
        "low_PLHum <- yp_hatHum - crit_val * se_ypHum\n",
        "upp_PLHum <- yp_hatHum + crit_val * se_ypHum\n",
        "plot(humidity, count, ylab = \"Number of Bikes Rented\", xlab = \"Humidity (Percent)\", main = \"# Bikes Rented vs. Percent Humidity\", pch = 16)\n",
        "abline(modelHumidity, col = \"red\", lwd = 2)\n",
        "lines(x0Hum, low_CLHum, col = \"blue\", lwd = 2, lty = 2)\n",
        "lines(x0Hum, upp_CLHum, col = \"blue\", lwd = 2, lty = 2)\n",
        "lines(xpHum, low_PLHum, col = \"green\", lwd = 2, lty = 2)\n",
        "lines(xpHum, upp_PLHum, col = \"green\", lwd = 2, lty = 2)\n",
        "legend(\"topright\", legend = c(\"Fitted Values\", \"95% CI\", \"95% PI\"), lwd = c(2,2,2), lty = c(1,2,2), col = c(\"red\", \"blue\", \"green\"))"
      ],
      "execution_count": 57,
      "outputs": [
        {
          "output_type": "display_data",
          "data": {
            "image/png": "[encoded data removed]"
          },
          "metadata": {
            "tags": []
          }
        }
      ]
    },
    {
      "cell_type": "code",
      "metadata": {
        "id": "hST-IZ90Hldd",
        "outputId": "1000f540-29f9-4b48-fb4d-51729edafebe",
        "colab": {
          "base_uri": "https://localhost:8080/",
          "height": 497
        }
      },
      "source": [
        "%%R\n",
        "beta0_hatWind <- summaryWindspeed$coefficients[1,1]\n",
        "se_beta0Wind <- summaryWindspeed$coefficients[1,2]\n",
        "x0Wind <- seq(from = min(windspeed), to = max(windspeed), length.out = 100)\n",
        "mu_hatWind <- beta0_hatWind + beta1_hatWind * windspeed\n",
        "mu0_hatWind <- beta0_hatWind + beta1_hatWind * x0Wind\n",
        "sxxWind <- (n) * var(windspeed)\n",
        "sigma_hatWind <- sqrt(sum((count - mu_hatWind)^2)/modelWindspeed$df.residual)\n",
        "se_mu0Wind <- sigma_hatWind * sqrt((1/n) + ((x0Wind-mean(windspeed))^2/sxxWind))\n",
        "low_CLWind <- mu0_hatWind - crit_val * se_mu0Wind\n",
        "upp_CLWind <- mu0_hatWind + crit_val * se_mu0Wind\n",
        "xpWind <- seq(from = min(windspeed), to = max(windspeed), length.out = 100)\n",
        "yp_hatWind <- beta0_hatWind + beta1_hatWind * xpWind\n",
        "se_ypWind <- sigma_hatWind * sqrt(1 + (1/n) + ((xpWind-mean(windspeed))^2/sxxWind))\n",
        "low_PLWind <- yp_hatWind - crit_val * se_ypWind\n",
        "upp_PLWind <- yp_hatWind + crit_val * se_ypWind\n",
        "plot(windspeed, count, ylab = \"Number of Bikes Rented\", xlab = \"Windspeed (in Miles per Hour)\", main = \"# Bikes Rented vs. Windspeed\", pch = 16)\n",
        "abline(modelWindspeed, col = \"red\", lwd = 2)\n",
        "lines(x0Wind, low_CLWind, col = \"blue\", lwd = 2, lty = 2)\n",
        "lines(x0Wind, upp_CLWind, col = \"blue\", lwd = 2, lty = 2)\n",
        "lines(xpWind, low_PLWind, col = \"green\", lwd = 2, lty = 2)\n",
        "lines(xpWind, upp_PLWind, col = \"green\", lwd = 2, lty = 2)\n",
        "legend(\"topright\", legend = c(\"Fitted Values\", \"95% CI\", \"95% PI\"), lwd = c(2,2,2), lty = c(1,2,2), col = c(\"red\", \"blue\", \"green\"))"
      ],
      "execution_count": 58,
      "outputs": [
        {
          "output_type": "display_data",
          "data": {
            "image/png": "[encoded data removed]"
          },
          "metadata": {
            "tags": []
          }
        }
      ]
    },
    {
      "cell_type": "code",
      "metadata": {
        "id": "N050c_jLHldf",
        "outputId": "a4f2018b-4ff5-41a8-b9e3-9f93ee098364",
        "colab": {
          "base_uri": "https://localhost:8080/",
          "height": 71
        }
      },
      "source": [
        "##part e -- in Python\n",
        "##i\n",
        "mu_pTemp = beta0_hatTemp + beta1_hatTemp * 70\n",
        "semu_pTemp = sigma_hatTemp * np.sqrt(1 + (1/n) + ((70-np.mean(temp))**2 /sxxTemp)) \n",
        "low_pl70 = mu_pTemp - crit_val * semu_pTemp\n",
        "hi_pl70 = mu_pTemp + crit_val * semu_pTemp\n",
        "\n",
        "print(\"If the temperature outside were 70*F, we would predict \",np.round(mu_pTemp, 3), \" bike rentals. A 95% prediction interval for this estimate is (\",np.round(low_pl70,3), \", \", np.round(hi_pl70,3), \").\")\n",
        "temp_pred = modelTemp.predict(exog = [1,70])\n",
        "blah, temp_lo, temp_hi = pi(modelTemp, exog = [1,70], weights = 1)\n",
        "print(\"Temperature: \", [temp_pred, temp_lo, temp_hi])\n"
      ],
      "execution_count": 59,
      "outputs": [
        {
          "output_type": "stream",
          "text": [
            "If the temperature outside were 70*F, we would predict  199.647  bike rentals. A 95% prediction interval for this estimate is ( -126.669 ,  525.962 ).\n",
            "Temperature:  [array([199.64651201]), array([-126.66870045]), array([525.96172448])]\n"
          ],
          "name": "stdout"
        }
      ]
    },
    {
      "cell_type": "code",
      "metadata": {
        "id": "9Wl-eWdpHldj",
        "outputId": "76572e1f-97ba-4b1a-8a6d-1fc325ecdd21",
        "colab": {
          "base_uri": "https://localhost:8080/",
          "height": 54
        }
      },
      "source": [
        "##ii\n",
        "mu_pWind = beta0_hatWind + beta1_hatWind * 10\n",
        "semu_pWind = sigma_hatWind * np.sqrt(1 + (1/n) + ((10-np.mean(windspeed))**2/sxxWind)) \n",
        "low_pl10 = mu_pWind - crit_val * semu_pWind\n",
        "hi_pl10 = mu_pWind + crit_val * semu_pWind\n",
        "print(\"If the wind was blowing 10 mph, we would predict \",np.round(mu_pWind, 3), \" bike rentals. A 95% prediction interval for this estimate is (\", np.round(low_pl10,3), \", \", np.round(hi_pl10,3), \").\")"
      ],
      "execution_count": 60,
      "outputs": [
        {
          "output_type": "stream",
          "text": [
            "If the wind was blowing 10 mph, we would predict  185.278  bike rentals. A 95% prediction interval for this estimate is ( -168.003 ,  538.56 ).\n"
          ],
          "name": "stdout"
        }
      ]
    },
    {
      "cell_type": "code",
      "metadata": {
        "id": "Ar-tPmQ-Hldl",
        "outputId": "a08586c9-6600-4d52-8752-1617e0384238",
        "colab": {
          "base_uri": "https://localhost:8080/",
          "height": 54
        }
      },
      "source": [
        "##iii\n",
        "mu_pHum = beta0_hatHum + beta1_hatHum * 40\n",
        "semu_pHum = sigma_hatHum * np.sqrt(1 + (1/n) + ((40-np.mean(humidity))**2/sxxHum))\n",
        "low_pl40 = mu_pHum - crit_val * semu_pHum\n",
        "hi_pl40 = mu_pHum + crit_val * semu_pHum\n",
        "print(\"If the relative humidity was 40%, we would predict \",np.round(mu_pHum, 3), \" bike rentals. A 95% prediction interval for this estimate is (\", np.round(low_pl40,3), \", \", np.round(hi_pl40,3), \").\")"
      ],
      "execution_count": 61,
      "outputs": [
        {
          "output_type": "stream",
          "text": [
            "If the relative humidity was 40%, we would predict  256.955  bike rentals. A 95% prediction interval for this estimate is ( -79.815 ,  593.725 ).\n"
          ],
          "name": "stdout"
        }
      ]
    },
    {
      "cell_type": "code",
      "metadata": {
        "id": "vZFvC-M6Hldn",
        "outputId": "a164df2e-0db5-49b9-8788-99053235f551",
        "colab": {
          "base_uri": "https://localhost:8080/",
          "height": 54
        }
      },
      "source": [
        "%%R\n",
        "##part e -- in R\n",
        "##i\n",
        "mu_pTemp <- beta0_hatTemp + beta1_hatTemp * 70\n",
        "semu_pTemp <- sigma_hatTemp * sqrt(1 + (1/n) + ((70-mean(temp))**2/sxxTemp)) \n",
        "low_pl70 <- mu_pTemp - crit_val * semu_pTemp\n",
        "hi_pl70 <- mu_pTemp + crit_val * semu_pTemp\n",
        "cat(\"If the temperature outside were 70*F, we would predict\",mu_pTemp, \"bike rentals. A 95% prediction interval for this estimate is (\", round(low_pl70,3), \", \", round(hi_pl70,3), \").\")"
      ],
      "execution_count": 62,
      "outputs": [
        {
          "output_type": "stream",
          "text": [
            "If the temperature outside were 70*F, we would predict 199.6465 bike rentals. A 95% prediction interval for this estimate is ( -126.669 ,  525.962 )."
          ],
          "name": "stdout"
        }
      ]
    },
    {
      "cell_type": "code",
      "metadata": {
        "id": "c1JfkdbQHldq",
        "outputId": "a047142d-fb46-4d78-ca27-fba622573156",
        "colab": {
          "base_uri": "https://localhost:8080/",
          "height": 54
        }
      },
      "source": [
        "%%R\n",
        "##ii\n",
        "mu_pWind <- beta0_hatWind + beta1_hatWind * 10\n",
        "semu_pWind <- sigma_hatWind * sqrt(1 + (1/n) + ((10-mean(windspeed))**2/sxxWind)) \n",
        "low_pl10 <- mu_pWind - crit_val * semu_pWind\n",
        "hi_pl10 <- mu_pWind + crit_val * semu_pWind\n",
        "cat(\"If the windspeed was 10 mph, we would predict\",mu_pWind, \"bike rentals. A 95% prediction interval for this estimate is (\", round(low_pl10,3), \", \", round(hi_pl10,3), \").\")"
      ],
      "execution_count": 63,
      "outputs": [
        {
          "output_type": "stream",
          "text": [
            "If the windspeed was 10 mph, we would predict 185.2781 bike rentals. A 95% prediction interval for this estimate is ( -168.003 ,  538.56 )."
          ],
          "name": "stdout"
        }
      ]
    },
    {
      "cell_type": "code",
      "metadata": {
        "id": "IEV2DMB4Hldu",
        "outputId": "376c232a-af03-450e-e334-0ae971e9d3fe",
        "colab": {
          "base_uri": "https://localhost:8080/",
          "height": 54
        }
      },
      "source": [
        "%%R\n",
        "##iii\n",
        "mu_pHum <- beta0_hatHum + beta1_hatHum * 40\n",
        "semu_pHum <- sigma_hatHum * sqrt(1 + (1/n) + ((40-mean(humidity))**2/sxxHum)) \n",
        "low_pl40 <- mu_pHum - crit_val * semu_pHum\n",
        "hi_pl40 <- mu_pHum + crit_val * semu_pHum\n",
        "cat(\"If the relative humidity was 40%, we would predict\",mu_pHum, \"bike rentals. A 95% prediction interval for this estimate is (\", round(low_pl40,3), \", \", round(hi_pl40,3), \").\")"
      ],
      "execution_count": 64,
      "outputs": [
        {
          "output_type": "stream",
          "text": [
            "If the relative humidity was 40%, we would predict 256.9549 bike rentals. A 95% prediction interval for this estimate is ( -79.815 ,  593.725 )."
          ],
          "name": "stdout"
        }
      ]
    },
    {
      "cell_type": "code",
      "metadata": {
        "id": "Vq0woC46Hldw",
        "outputId": "2005d2de-151c-4bb0-9b0b-57af36b786e0",
        "colab": {
          "base_uri": "https://localhost:8080/",
          "height": 486
        }
      },
      "source": [
        "##part f -- in Python\n",
        "modelSeason = smf.ols(\"count ~ C(season)\", data = bikes).fit()\n",
        "summarySeason = modelSeason.summary()\n",
        "##1 = spring, 2 = summer, 3 = fall, 4 = winter\n",
        "summarySeason\n"
      ],
      "execution_count": 65,
      "outputs": [
        {
          "output_type": "execute_result",
          "data": {
            "text/html": [
              "<table class=\"simpletable\">\n",
              "<caption>OLS Regression Results</caption>\n",
              "<tr>\n",
              "  <th>Dep. Variable:</th>          <td>count</td>      <th>  R-squared:         </th> <td>   0.061</td> \n",
              "</tr>\n",
              "<tr>\n",
              "  <th>Model:</th>                   <td>OLS</td>       <th>  Adj. R-squared:    </th> <td>   0.061</td> \n",
              "</tr>\n",
              "<tr>\n",
              "  <th>Method:</th>             <td>Least Squares</td>  <th>  F-statistic:       </th> <td>   236.9</td> \n",
              "</tr>\n",
              "<tr>\n",
              "  <th>Date:</th>             <td>Sun, 25 Oct 2020</td> <th>  Prob (F-statistic):</th> <td>6.16e-149</td>\n",
              "</tr>\n",
              "<tr>\n",
              "  <th>Time:</th>                 <td>21:43:42</td>     <th>  Log-Likelihood:    </th> <td> -71701.</td> \n",
              "</tr>\n",
              "<tr>\n",
              "  <th>No. Observations:</th>      <td> 10886</td>      <th>  AIC:               </th> <td>1.434e+05</td>\n",
              "</tr>\n",
              "<tr>\n",
              "  <th>Df Residuals:</th>          <td> 10882</td>      <th>  BIC:               </th> <td>1.434e+05</td>\n",
              "</tr>\n",
              "<tr>\n",
              "  <th>Df Model:</th>              <td>     3</td>      <th>                     </th>     <td> </td>    \n",
              "</tr>\n",
              "<tr>\n",
              "  <th>Covariance Type:</th>      <td>nonrobust</td>    <th>                     </th>     <td> </td>    \n",
              "</tr>\n",
              "</table>\n",
              "<table class=\"simpletable\">\n",
              "<tr>\n",
              "          <td></td>            <th>coef</th>     <th>std err</th>      <th>t</th>      <th>P>|t|</th>  <th>[0.025</th>    <th>0.975]</th>  \n",
              "</tr>\n",
              "<tr>\n",
              "  <th>Intercept</th>        <td>  116.3433</td> <td>    3.387</td> <td>   34.352</td> <td> 0.000</td> <td>  109.704</td> <td>  122.982</td>\n",
              "</tr>\n",
              "<tr>\n",
              "  <th>C(season)[T.2.0]</th> <td>   98.9081</td> <td>    4.769</td> <td>   20.740</td> <td> 0.000</td> <td>   89.560</td> <td>  108.256</td>\n",
              "</tr>\n",
              "<tr>\n",
              "  <th>C(season)[T.3.0]</th> <td>  118.0739</td> <td>    4.769</td> <td>   24.758</td> <td> 0.000</td> <td>  108.726</td> <td>  127.422</td>\n",
              "</tr>\n",
              "<tr>\n",
              "  <th>C(season)[T.4.0]</th> <td>   82.6450</td> <td>    4.769</td> <td>   17.331</td> <td> 0.000</td> <td>   73.298</td> <td>   91.992</td>\n",
              "</tr>\n",
              "</table>\n",
              "<table class=\"simpletable\">\n",
              "<tr>\n",
              "  <th>Omnibus:</th>       <td>1896.059</td> <th>  Durbin-Watson:     </th> <td>   0.337</td>\n",
              "</tr>\n",
              "<tr>\n",
              "  <th>Prob(Omnibus):</th>  <td> 0.000</td>  <th>  Jarque-Bera (JB):  </th> <td>3190.509</td>\n",
              "</tr>\n",
              "<tr>\n",
              "  <th>Skew:</th>           <td> 1.156</td>  <th>  Prob(JB):          </th> <td>    0.00</td>\n",
              "</tr>\n",
              "<tr>\n",
              "  <th>Kurtosis:</th>       <td> 4.299</td>  <th>  Cond. No.          </th> <td>    4.82</td>\n",
              "</tr>\n",
              "</table><br/><br/>Warnings:<br/>[1] Standard Errors assume that the covariance matrix of the errors is correctly specified."
            ],
            "text/plain": [
              "<class 'statsmodels.iolib.summary.Summary'>\n",
              "\"\"\"\n",
              "                            OLS Regression Results                            \n",
              "==============================================================================\n",
              "Dep. Variable:                  count   R-squared:                       0.061\n",
              "Model:                            OLS   Adj. R-squared:                  0.061\n",
              "Method:                 Least Squares   F-statistic:                     236.9\n",
              "Date:                Sun, 25 Oct 2020   Prob (F-statistic):          6.16e-149\n",
              "Time:                        21:43:42   Log-Likelihood:                -71701.\n",
              "No. Observations:               10886   AIC:                         1.434e+05\n",
              "Df Residuals:                   10882   BIC:                         1.434e+05\n",
              "Df Model:                           3                                         \n",
              "Covariance Type:            nonrobust                                         \n",
              "====================================================================================\n",
              "                       coef    std err          t      P>|t|      [0.025      0.975]\n",
              "------------------------------------------------------------------------------------\n",
              "Intercept          116.3433      3.387     34.352      0.000     109.704     122.982\n",
              "C(season)[T.2.0]    98.9081      4.769     20.740      0.000      89.560     108.256\n",
              "C(season)[T.3.0]   118.0739      4.769     24.758      0.000     108.726     127.422\n",
              "C(season)[T.4.0]    82.6450      4.769     17.331      0.000      73.298      91.992\n",
              "==============================================================================\n",
              "Omnibus:                     1896.059   Durbin-Watson:                   0.337\n",
              "Prob(Omnibus):                  0.000   Jarque-Bera (JB):             3190.509\n",
              "Skew:                           1.156   Prob(JB):                         0.00\n",
              "Kurtosis:                       4.299   Cond. No.                         4.82\n",
              "==============================================================================\n",
              "\n",
              "Warnings:\n",
              "[1] Standard Errors assume that the covariance matrix of the errors is correctly specified.\n",
              "\"\"\""
            ]
          },
          "metadata": {
            "tags": []
          },
          "execution_count": 65
        }
      ]
    },
    {
      "cell_type": "code",
      "metadata": {
        "id": "S2sMG4JPHldz",
        "outputId": "7c6121b3-e402-42eb-e86b-3ba395b3c269",
        "colab": {
          "base_uri": "https://localhost:8080/",
          "height": 374
        }
      },
      "source": [
        "%%R\n",
        "##part f -- in R\n",
        "##1 = spring, 2 = summer, 3 = fall, 4 = winter\n",
        "modelSeasons <- lm(count ~ factor(season), data = bikes)\n",
        "summarySeasons <- summary(modelSeasons)\n",
        "summarySeasons"
      ],
      "execution_count": 66,
      "outputs": [
        {
          "output_type": "stream",
          "text": [
            "\n",
            "Call:\n",
            "lm(formula = count ~ factor(season), data = bikes)\n",
            "\n",
            "Residuals:\n",
            "    Min      1Q  Median      3Q     Max \n",
            "-233.42 -115.99  -38.99   87.58  749.01 \n",
            "\n",
            "Coefficients:\n",
            "                Estimate Std. Error t value Pr(>|t|)    \n",
            "(Intercept)      116.343      3.387   34.35   <2e-16 ***\n",
            "factor(season)2   98.908      4.769   20.74   <2e-16 ***\n",
            "factor(season)3  118.074      4.769   24.76   <2e-16 ***\n",
            "factor(season)4   82.645      4.769   17.33   <2e-16 ***\n",
            "---\n",
            "Signif. codes:  0 ‘***’ 0.001 ‘**’ 0.01 ‘*’ 0.05 ‘.’ 0.1 ‘ ’ 1\n",
            "\n",
            "Residual standard error: 175.5 on 10882 degrees of freedom\n",
            "Multiple R-squared:  0.06132,\tAdjusted R-squared:  0.06106 \n",
            "F-statistic: 236.9 on 3 and 10882 DF,  p-value: < 2.2e-16\n",
            "\n"
          ],
          "name": "stdout"
        }
      ]
    },
    {
      "cell_type": "markdown",
      "metadata": {
        "id": "2u8ElgfNHld1"
      },
      "source": [
        "The model $y_i = \\beta_0 + \\beta_1 x_{1i} + \\beta_2 x_{2i} + \\beta_3 x_{3i}$ relates the season to the number of bike rentals.\n",
        "\n",
        "$\\beta_0$, the intercept, is the parameter for bike rentals in spring, $\\beta_1$ represents the change in the number of bike rentals between the spring and summer seasons. Similarly, $\\beta_2$ is represents the difference in the number of bike rentals between spring and fall, and $\\beta_3$ represents the change in hourly bike rentals between spring and winter.\n",
        "\n",
        "The $x$'s are indicator, binary variables coded as a 1 if it is the season of the associated $\\beta$ and 0 if it is not.\n",
        "\n",
        "$E(\\beta_0) = 116.343$\n",
        "\n",
        "$E(\\beta_1) = 215.251$\n",
        "\n",
        "$E(\\beta_2) = 247.417$\n",
        "\n",
        "$E(\\beta_3) = 198.988$"
      ]
    },
    {
      "cell_type": "code",
      "metadata": {
        "id": "ylwo7MxBHld3",
        "outputId": "668dd654-aae2-41bd-9881-1a9cb05425ef",
        "colab": {
          "base_uri": "https://localhost:8080/",
          "height": 486
        }
      },
      "source": [
        "##part g -- Python\n",
        "#1 = nice, 2 = cloudy, 3 = rainy, 4 = stormy\n",
        "modelWeather = smf.ols(\"count ~ C(weather)\", data = bikes).fit()\n",
        "summaryWeather = modelWeather.summary()\n",
        "summaryWeather"
      ],
      "execution_count": 67,
      "outputs": [
        {
          "output_type": "execute_result",
          "data": {
            "text/html": [
              "<table class=\"simpletable\">\n",
              "<caption>OLS Regression Results</caption>\n",
              "<tr>\n",
              "  <th>Dep. Variable:</th>          <td>count</td>      <th>  R-squared:         </th> <td>   0.018</td> \n",
              "</tr>\n",
              "<tr>\n",
              "  <th>Model:</th>                   <td>OLS</td>       <th>  Adj. R-squared:    </th> <td>   0.017</td> \n",
              "</tr>\n",
              "<tr>\n",
              "  <th>Method:</th>             <td>Least Squares</td>  <th>  F-statistic:       </th> <td>   65.53</td> \n",
              "</tr>\n",
              "<tr>\n",
              "  <th>Date:</th>             <td>Sun, 25 Oct 2020</td> <th>  Prob (F-statistic):</th> <td>5.48e-42</td> \n",
              "</tr>\n",
              "<tr>\n",
              "  <th>Time:</th>                 <td>21:43:43</td>     <th>  Log-Likelihood:    </th> <td> -71948.</td> \n",
              "</tr>\n",
              "<tr>\n",
              "  <th>No. Observations:</th>      <td> 10886</td>      <th>  AIC:               </th> <td>1.439e+05</td>\n",
              "</tr>\n",
              "<tr>\n",
              "  <th>Df Residuals:</th>          <td> 10882</td>      <th>  BIC:               </th> <td>1.439e+05</td>\n",
              "</tr>\n",
              "<tr>\n",
              "  <th>Df Model:</th>              <td>     3</td>      <th>                     </th>     <td> </td>    \n",
              "</tr>\n",
              "<tr>\n",
              "  <th>Covariance Type:</th>      <td>nonrobust</td>    <th>                     </th>     <td> </td>    \n",
              "</tr>\n",
              "</table>\n",
              "<table class=\"simpletable\">\n",
              "<tr>\n",
              "          <td></td>             <th>coef</th>     <th>std err</th>      <th>t</th>      <th>P>|t|</th>  <th>[0.025</th>    <th>0.975]</th>  \n",
              "</tr>\n",
              "<tr>\n",
              "  <th>Intercept</th>         <td>  205.2368</td> <td>    2.117</td> <td>   96.936</td> <td> 0.000</td> <td>  201.087</td> <td>  209.387</td>\n",
              "</tr>\n",
              "<tr>\n",
              "  <th>C(weather)[T.2.0]</th> <td>  -26.2813</td> <td>    3.982</td> <td>   -6.599</td> <td> 0.000</td> <td>  -34.087</td> <td>  -18.475</td>\n",
              "</tr>\n",
              "<tr>\n",
              "  <th>C(weather)[T.3.0]</th> <td>  -86.3905</td> <td>    6.482</td> <td>  -13.328</td> <td> 0.000</td> <td>  -99.096</td> <td>  -73.685</td>\n",
              "</tr>\n",
              "<tr>\n",
              "  <th>C(weather)[T.4.0]</th> <td>  -41.2368</td> <td>  179.567</td> <td>   -0.230</td> <td> 0.818</td> <td> -393.221</td> <td>  310.748</td>\n",
              "</tr>\n",
              "</table>\n",
              "<table class=\"simpletable\">\n",
              "<tr>\n",
              "  <th>Omnibus:</th>       <td>2029.021</td> <th>  Durbin-Watson:     </th> <td>   0.329</td>\n",
              "</tr>\n",
              "<tr>\n",
              "  <th>Prob(Omnibus):</th>  <td> 0.000</td>  <th>  Jarque-Bera (JB):  </th> <td>3492.480</td>\n",
              "</tr>\n",
              "<tr>\n",
              "  <th>Skew:</th>           <td> 1.221</td>  <th>  Prob(JB):          </th> <td>    0.00</td>\n",
              "</tr>\n",
              "<tr>\n",
              "  <th>Kurtosis:</th>       <td> 4.319</td>  <th>  Cond. No.          </th> <td>    109.</td>\n",
              "</tr>\n",
              "</table><br/><br/>Warnings:<br/>[1] Standard Errors assume that the covariance matrix of the errors is correctly specified."
            ],
            "text/plain": [
              "<class 'statsmodels.iolib.summary.Summary'>\n",
              "\"\"\"\n",
              "                            OLS Regression Results                            \n",
              "==============================================================================\n",
              "Dep. Variable:                  count   R-squared:                       0.018\n",
              "Model:                            OLS   Adj. R-squared:                  0.017\n",
              "Method:                 Least Squares   F-statistic:                     65.53\n",
              "Date:                Sun, 25 Oct 2020   Prob (F-statistic):           5.48e-42\n",
              "Time:                        21:43:43   Log-Likelihood:                -71948.\n",
              "No. Observations:               10886   AIC:                         1.439e+05\n",
              "Df Residuals:                   10882   BIC:                         1.439e+05\n",
              "Df Model:                           3                                         \n",
              "Covariance Type:            nonrobust                                         \n",
              "=====================================================================================\n",
              "                        coef    std err          t      P>|t|      [0.025      0.975]\n",
              "-------------------------------------------------------------------------------------\n",
              "Intercept           205.2368      2.117     96.936      0.000     201.087     209.387\n",
              "C(weather)[T.2.0]   -26.2813      3.982     -6.599      0.000     -34.087     -18.475\n",
              "C(weather)[T.3.0]   -86.3905      6.482    -13.328      0.000     -99.096     -73.685\n",
              "C(weather)[T.4.0]   -41.2368    179.567     -0.230      0.818    -393.221     310.748\n",
              "==============================================================================\n",
              "Omnibus:                     2029.021   Durbin-Watson:                   0.329\n",
              "Prob(Omnibus):                  0.000   Jarque-Bera (JB):             3492.480\n",
              "Skew:                           1.221   Prob(JB):                         0.00\n",
              "Kurtosis:                       4.319   Cond. No.                         109.\n",
              "==============================================================================\n",
              "\n",
              "Warnings:\n",
              "[1] Standard Errors assume that the covariance matrix of the errors is correctly specified.\n",
              "\"\"\""
            ]
          },
          "metadata": {
            "tags": []
          },
          "execution_count": 67
        }
      ]
    },
    {
      "cell_type": "code",
      "metadata": {
        "id": "sD0MxvrHHld5",
        "outputId": "c85b76e7-a37b-48a7-e9e4-ac93452d3573",
        "colab": {
          "base_uri": "https://localhost:8080/",
          "height": 374
        }
      },
      "source": [
        "%%R\n",
        "##part g -- R\n",
        "#1 = nice, 2 = cloudy, 3 = rainy, 4 = stormy\n",
        "modelWeather <- lm(count ~ factor(weather), data = bikes)\n",
        "summaryWeather <- summary(modelWeather)\n",
        "summaryWeather"
      ],
      "execution_count": 68,
      "outputs": [
        {
          "output_type": "stream",
          "text": [
            "\n",
            "Call:\n",
            "lm(formula = count ~ factor(weather), data = bikes)\n",
            "\n",
            "Residuals:\n",
            "    Min      1Q  Median      3Q     Max \n",
            "-204.24 -142.24  -44.90   90.76  772.15 \n",
            "\n",
            "Coefficients:\n",
            "                 Estimate Std. Error t value Pr(>|t|)    \n",
            "(Intercept)       205.237      2.117  96.936  < 2e-16 ***\n",
            "factor(weather)2  -26.281      3.982  -6.599 4.32e-11 ***\n",
            "factor(weather)3  -86.390      6.482 -13.328  < 2e-16 ***\n",
            "factor(weather)4  -41.237    179.567  -0.230    0.818    \n",
            "---\n",
            "Signif. codes:  0 ‘***’ 0.001 ‘**’ 0.01 ‘*’ 0.05 ‘.’ 0.1 ‘ ’ 1\n",
            "\n",
            "Residual standard error: 179.6 on 10882 degrees of freedom\n",
            "Multiple R-squared:  0.01775,\tAdjusted R-squared:  0.01747 \n",
            "F-statistic: 65.53 on 3 and 10882 DF,  p-value: < 2.2e-16\n",
            "\n"
          ],
          "name": "stdout"
        }
      ]
    },
    {
      "cell_type": "markdown",
      "metadata": {
        "id": "toxsaLL4Hld9"
      },
      "source": [
        "This model $y_i = \\beta_0 + \\beta_1 x_{1i} + \\beta_2 x_{2i} + \\beta_3 x_{3i}$ relates the weather outside to the number of bikes rented that hour.\n",
        "\n",
        "$\\beta_0$ is the parameter for bike rentals in nice weather, $\\beta_1$ represents the difference in the number of bike rentals when it is cloudy outside as opposed to nice. $\\beta_2$ is represents the change in the number of bike rentals between nice and rainy weather, and $\\beta_3$ represents the change in hourly bike rentals between nice weather and stormy weather.\n",
        "\n",
        "The $x$'s are indicator, binary variables coded as a 1 if the weather matches the associated $\\beta$ and 0 if it does not.\n",
        "\n",
        "$E(\\beta_0) = 205.237$\n",
        "\n",
        "$E(\\beta_1) = 178.956$\n",
        "\n",
        "$E(\\beta_2) = 118.847$\n",
        "\n",
        "$E(\\beta_3) = 164$"
      ]
    },
    {
      "cell_type": "code",
      "metadata": {
        "id": "45W8AFHYHld9"
      },
      "source": [
        ""
      ],
      "execution_count": 68,
      "outputs": []
    }
  ]
}