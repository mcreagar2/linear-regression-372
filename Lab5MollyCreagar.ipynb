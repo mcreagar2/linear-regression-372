{
 "cells": [
  {
   "cell_type": "code",
   "execution_count": 1,
   "metadata": {},
   "outputs": [
    {
     "data": {
      "text/html": [
       "<div>\n",
       "<style scoped>\n",
       "    .dataframe tbody tr th:only-of-type {\n",
       "        vertical-align: middle;\n",
       "    }\n",
       "\n",
       "    .dataframe tbody tr th {\n",
       "        vertical-align: top;\n",
       "    }\n",
       "\n",
       "    .dataframe thead th {\n",
       "        text-align: right;\n",
       "    }\n",
       "</style>\n",
       "<table border=\"1\" class=\"dataframe\">\n",
       "  <thead>\n",
       "    <tr style=\"text-align: right;\">\n",
       "      <th></th>\n",
       "      <th>VIF Factor</th>\n",
       "      <th>variable</th>\n",
       "    </tr>\n",
       "  </thead>\n",
       "  <tbody>\n",
       "    <tr>\n",
       "      <th>0</th>\n",
       "      <td>21.762082</td>\n",
       "      <td>Intercept</td>\n",
       "    </tr>\n",
       "    <tr>\n",
       "      <th>1</th>\n",
       "      <td>4.134115</td>\n",
       "      <td>League[T.N]</td>\n",
       "    </tr>\n",
       "    <tr>\n",
       "      <th>2</th>\n",
       "      <td>1.075398</td>\n",
       "      <td>Division[T.W]</td>\n",
       "    </tr>\n",
       "    <tr>\n",
       "      <th>3</th>\n",
       "      <td>4.099063</td>\n",
       "      <td>NewLeague[T.N]</td>\n",
       "    </tr>\n",
       "    <tr>\n",
       "      <th>4</th>\n",
       "      <td>22.944366</td>\n",
       "      <td>AtBat</td>\n",
       "    </tr>\n",
       "    <tr>\n",
       "      <th>5</th>\n",
       "      <td>30.281255</td>\n",
       "      <td>Hits</td>\n",
       "    </tr>\n",
       "    <tr>\n",
       "      <th>6</th>\n",
       "      <td>7.758668</td>\n",
       "      <td>HmRun</td>\n",
       "    </tr>\n",
       "    <tr>\n",
       "      <th>7</th>\n",
       "      <td>15.246418</td>\n",
       "      <td>Runs</td>\n",
       "    </tr>\n",
       "    <tr>\n",
       "      <th>8</th>\n",
       "      <td>11.921715</td>\n",
       "      <td>RBI</td>\n",
       "    </tr>\n",
       "    <tr>\n",
       "      <th>9</th>\n",
       "      <td>4.148712</td>\n",
       "      <td>Walks</td>\n",
       "    </tr>\n",
       "    <tr>\n",
       "      <th>10</th>\n",
       "      <td>9.313280</td>\n",
       "      <td>Years</td>\n",
       "    </tr>\n",
       "    <tr>\n",
       "      <th>11</th>\n",
       "      <td>251.561160</td>\n",
       "      <td>CAtBat</td>\n",
       "    </tr>\n",
       "    <tr>\n",
       "      <th>12</th>\n",
       "      <td>502.954289</td>\n",
       "      <td>CHits</td>\n",
       "    </tr>\n",
       "    <tr>\n",
       "      <th>13</th>\n",
       "      <td>46.488462</td>\n",
       "      <td>CHmRun</td>\n",
       "    </tr>\n",
       "    <tr>\n",
       "      <th>14</th>\n",
       "      <td>162.520810</td>\n",
       "      <td>CRuns</td>\n",
       "    </tr>\n",
       "    <tr>\n",
       "      <th>15</th>\n",
       "      <td>131.965858</td>\n",
       "      <td>CRBI</td>\n",
       "    </tr>\n",
       "    <tr>\n",
       "      <th>16</th>\n",
       "      <td>19.744105</td>\n",
       "      <td>CWalks</td>\n",
       "    </tr>\n",
       "    <tr>\n",
       "      <th>17</th>\n",
       "      <td>1.236317</td>\n",
       "      <td>PutOuts</td>\n",
       "    </tr>\n",
       "    <tr>\n",
       "      <th>18</th>\n",
       "      <td>2.709341</td>\n",
       "      <td>Assists</td>\n",
       "    </tr>\n",
       "    <tr>\n",
       "      <th>19</th>\n",
       "      <td>2.214543</td>\n",
       "      <td>Errors</td>\n",
       "    </tr>\n",
       "  </tbody>\n",
       "</table>\n",
       "</div>"
      ],
      "text/plain": [
       "    VIF Factor        variable\n",
       "0    21.762082       Intercept\n",
       "1     4.134115     League[T.N]\n",
       "2     1.075398   Division[T.W]\n",
       "3     4.099063  NewLeague[T.N]\n",
       "4    22.944366           AtBat\n",
       "5    30.281255            Hits\n",
       "6     7.758668           HmRun\n",
       "7    15.246418            Runs\n",
       "8    11.921715             RBI\n",
       "9     4.148712           Walks\n",
       "10    9.313280           Years\n",
       "11  251.561160          CAtBat\n",
       "12  502.954289           CHits\n",
       "13   46.488462          CHmRun\n",
       "14  162.520810           CRuns\n",
       "15  131.965858            CRBI\n",
       "16   19.744105          CWalks\n",
       "17    1.236317         PutOuts\n",
       "18    2.709341         Assists\n",
       "19    2.214543          Errors"
      ]
     },
     "execution_count": 1,
     "metadata": {},
     "output_type": "execute_result"
    }
   ],
   "source": [
    "import rpy2.rinterface\n",
    "%load_ext rpy2.ipython\n",
    "import os\n",
    "import sys\n",
    "import pandas as pd\n",
    "import matplotlib.pyplot as plt\n",
    "import numpy as np\n",
    "from patsy import dmatrices\n",
    "import statsmodels.api as sm\n",
    "import statsmodels.formula.api as smf\n",
    "from sklearn.model_selection import train_test_split\n",
    "from sklearn.model_selection import KFold\n",
    "from statsmodels.stats.outliers_influence import variance_inflation_factor\n",
    "\n",
    "##In Python\n",
    "##Read in the data\n",
    "os.chdir(\"/Users/Molly/Documents/Math372/\")\n",
    "hitters = pd.read_csv('hitters.csv')\n",
    "n = len(hitters['Salary'])\n",
    "##a\n",
    "expVars = hitters.drop(labels = \"Salary\", axis = 1)\n",
    "expVars = \"+\".join(expVars.columns)\n",
    "\n",
    "y, X = dmatrices('Salary ~' + expVars, hitters, return_type='dataframe')\n",
    "vif = pd.DataFrame()\n",
    "vif[\"VIF Factor\"] = [variance_inflation_factor(X.values, i) for i in range(X.shape[1])]\n",
    "vif[\"variable\"] = X.columns\n",
    "vif"
   ]
  },
  {
   "cell_type": "code",
   "execution_count": 2,
   "metadata": {},
   "outputs": [
    {
     "name": "stderr",
     "output_type": "stream",
     "text": [
      "/anaconda3/lib/python3.6/site-packages/rpy2/rinterface/__init__.py:146: RRuntimeWarning: Loading required package: carData\n",
      "\n",
      "  warnings.warn(x, RRuntimeWarning)\n"
     ]
    },
    {
     "data": {
      "text/plain": [
       "     AtBat       Hits      HmRun       Runs        RBI      Walks      Years \n",
       " 22.944366  30.281255   7.758668  15.246418  11.921715   4.148712   9.313280 \n",
       "    CAtBat      CHits     CHmRun      CRuns       CRBI     CWalks     League \n",
       "251.561160 502.954289  46.488462 162.520810 131.965858  19.744105   4.134115 \n",
       "  Division    PutOuts    Assists     Errors  NewLeague \n",
       "  1.075398   1.236317   2.709341   2.214543   4.099063 \n"
      ]
     },
     "metadata": {},
     "output_type": "display_data"
    }
   ],
   "source": [
    "%%R\n",
    "##In R\n",
    "##Read in data and load libraries\n",
    "library(MASS)\n",
    "#library(ISLR)\n",
    "#library(boot)\n",
    "library(car)\n",
    "setwd(\"/Users/Molly/Documents/Math372/\")\n",
    "hitters <- read.csv(file = \"hitters.csv\", header = T)\n",
    "n <- dim(hitters)[1]\n",
    "\n",
    "##a\n",
    "mod <- lm('Salary ~ .', data = hitters)\n",
    "vif(mod)"
   ]
  },
  {
   "cell_type": "markdown",
   "metadata": {},
   "source": [
    "Multicollinearity does appear to be an issue. We typically point out variables with VIF >5 or so, and there are several variables in this data set with larger VIF than 5 or even 10. The three variables with the largest VIFs are Career Hits ($CHits = 502.954$), Career At Bats ($CAtBat = 251.56116$), and Career Runs ($CRuns = 162.5208$). It's not really surprising that these are all very high, because they are likely dependent upon one another. A player can't have a lot of hits if he doesn't have very many at bats, and hits mean the player gets on base, which increases the chances that he will score."
   ]
  },
  {
   "cell_type": "code",
   "execution_count": 3,
   "metadata": {},
   "outputs": [
    {
     "data": {
      "text/plain": [
       "Subset selection object\n",
       "Call: regsubsets.formula(Salary ~ ., data = hitters, nvmax = 19)\n",
       "19 Variables  (and intercept)\n",
       "           Forced in Forced out\n",
       "AtBat          FALSE      FALSE\n",
       "Hits           FALSE      FALSE\n",
       "HmRun          FALSE      FALSE\n",
       "Runs           FALSE      FALSE\n",
       "RBI            FALSE      FALSE\n",
       "Walks          FALSE      FALSE\n",
       "Years          FALSE      FALSE\n",
       "CAtBat         FALSE      FALSE\n",
       "CHits          FALSE      FALSE\n",
       "CHmRun         FALSE      FALSE\n",
       "CRuns          FALSE      FALSE\n",
       "CRBI           FALSE      FALSE\n",
       "CWalks         FALSE      FALSE\n",
       "LeagueN        FALSE      FALSE\n",
       "DivisionW      FALSE      FALSE\n",
       "PutOuts        FALSE      FALSE\n",
       "Assists        FALSE      FALSE\n",
       "Errors         FALSE      FALSE\n",
       "NewLeagueN     FALSE      FALSE\n",
       "1 subsets of each size up to 19\n",
       "Selection Algorithm: exhaustive\n",
       "          AtBat Hits HmRun Runs RBI Walks Years CAtBat CHits CHmRun CRuns CRBI\n",
       "1  ( 1 )  \" \"   \" \"  \" \"   \" \"  \" \" \" \"   \" \"   \" \"    \" \"   \" \"    \" \"   \"*\" \n",
       "2  ( 1 )  \" \"   \"*\"  \" \"   \" \"  \" \" \" \"   \" \"   \" \"    \" \"   \" \"    \" \"   \"*\" \n",
       "3  ( 1 )  \" \"   \"*\"  \" \"   \" \"  \" \" \" \"   \" \"   \" \"    \" \"   \" \"    \" \"   \"*\" \n",
       "4  ( 1 )  \" \"   \"*\"  \" \"   \" \"  \" \" \" \"   \" \"   \" \"    \" \"   \" \"    \" \"   \"*\" \n",
       "5  ( 1 )  \"*\"   \"*\"  \" \"   \" \"  \" \" \" \"   \" \"   \" \"    \" \"   \" \"    \" \"   \"*\" \n",
       "6  ( 1 )  \"*\"   \"*\"  \" \"   \" \"  \" \" \"*\"   \" \"   \" \"    \" \"   \" \"    \" \"   \"*\" \n",
       "7  ( 1 )  \" \"   \"*\"  \" \"   \" \"  \" \" \"*\"   \" \"   \"*\"    \"*\"   \"*\"    \" \"   \" \" \n",
       "8  ( 1 )  \"*\"   \"*\"  \" \"   \" \"  \" \" \"*\"   \" \"   \" \"    \" \"   \"*\"    \"*\"   \" \" \n",
       "9  ( 1 )  \"*\"   \"*\"  \" \"   \" \"  \" \" \"*\"   \" \"   \"*\"    \" \"   \" \"    \"*\"   \"*\" \n",
       "10  ( 1 ) \"*\"   \"*\"  \" \"   \" \"  \" \" \"*\"   \" \"   \"*\"    \" \"   \" \"    \"*\"   \"*\" \n",
       "11  ( 1 ) \"*\"   \"*\"  \" \"   \" \"  \" \" \"*\"   \" \"   \"*\"    \" \"   \" \"    \"*\"   \"*\" \n",
       "12  ( 1 ) \"*\"   \"*\"  \" \"   \"*\"  \" \" \"*\"   \" \"   \"*\"    \" \"   \" \"    \"*\"   \"*\" \n",
       "13  ( 1 ) \"*\"   \"*\"  \" \"   \"*\"  \" \" \"*\"   \" \"   \"*\"    \" \"   \" \"    \"*\"   \"*\" \n",
       "14  ( 1 ) \"*\"   \"*\"  \"*\"   \"*\"  \" \" \"*\"   \" \"   \"*\"    \" \"   \" \"    \"*\"   \"*\" \n",
       "15  ( 1 ) \"*\"   \"*\"  \"*\"   \"*\"  \" \" \"*\"   \" \"   \"*\"    \"*\"   \" \"    \"*\"   \"*\" \n",
       "16  ( 1 ) \"*\"   \"*\"  \"*\"   \"*\"  \"*\" \"*\"   \" \"   \"*\"    \"*\"   \" \"    \"*\"   \"*\" \n",
       "17  ( 1 ) \"*\"   \"*\"  \"*\"   \"*\"  \"*\" \"*\"   \" \"   \"*\"    \"*\"   \" \"    \"*\"   \"*\" \n",
       "18  ( 1 ) \"*\"   \"*\"  \"*\"   \"*\"  \"*\" \"*\"   \"*\"   \"*\"    \"*\"   \" \"    \"*\"   \"*\" \n",
       "19  ( 1 ) \"*\"   \"*\"  \"*\"   \"*\"  \"*\" \"*\"   \"*\"   \"*\"    \"*\"   \"*\"    \"*\"   \"*\" \n",
       "          CWalks LeagueN DivisionW PutOuts Assists Errors NewLeagueN\n",
       "1  ( 1 )  \" \"    \" \"     \" \"       \" \"     \" \"     \" \"    \" \"       \n",
       "2  ( 1 )  \" \"    \" \"     \" \"       \" \"     \" \"     \" \"    \" \"       \n",
       "3  ( 1 )  \" \"    \" \"     \" \"       \"*\"     \" \"     \" \"    \" \"       \n",
       "4  ( 1 )  \" \"    \" \"     \"*\"       \"*\"     \" \"     \" \"    \" \"       \n",
       "5  ( 1 )  \" \"    \" \"     \"*\"       \"*\"     \" \"     \" \"    \" \"       \n",
       "6  ( 1 )  \" \"    \" \"     \"*\"       \"*\"     \" \"     \" \"    \" \"       \n",
       "7  ( 1 )  \" \"    \" \"     \"*\"       \"*\"     \" \"     \" \"    \" \"       \n",
       "8  ( 1 )  \"*\"    \" \"     \"*\"       \"*\"     \" \"     \" \"    \" \"       \n",
       "9  ( 1 )  \"*\"    \" \"     \"*\"       \"*\"     \" \"     \" \"    \" \"       \n",
       "10  ( 1 ) \"*\"    \" \"     \"*\"       \"*\"     \"*\"     \" \"    \" \"       \n",
       "11  ( 1 ) \"*\"    \"*\"     \"*\"       \"*\"     \"*\"     \" \"    \" \"       \n",
       "12  ( 1 ) \"*\"    \"*\"     \"*\"       \"*\"     \"*\"     \" \"    \" \"       \n",
       "13  ( 1 ) \"*\"    \"*\"     \"*\"       \"*\"     \"*\"     \"*\"    \" \"       \n",
       "14  ( 1 ) \"*\"    \"*\"     \"*\"       \"*\"     \"*\"     \"*\"    \" \"       \n",
       "15  ( 1 ) \"*\"    \"*\"     \"*\"       \"*\"     \"*\"     \"*\"    \" \"       \n",
       "16  ( 1 ) \"*\"    \"*\"     \"*\"       \"*\"     \"*\"     \"*\"    \" \"       \n",
       "17  ( 1 ) \"*\"    \"*\"     \"*\"       \"*\"     \"*\"     \"*\"    \"*\"       \n",
       "18  ( 1 ) \"*\"    \"*\"     \"*\"       \"*\"     \"*\"     \"*\"    \"*\"       \n",
       "19  ( 1 ) \"*\"    \"*\"     \"*\"       \"*\"     \"*\"     \"*\"    \"*\"       \n"
      ]
     },
     "metadata": {},
     "output_type": "display_data"
    }
   ],
   "source": [
    "%%R\n",
    "##b\n",
    "library(leaps)\n",
    "all_poss <- regsubsets(Salary ~ ., data = hitters, nvmax = 19)\n",
    "all_poss_summ <- summary(all_poss)\n",
    "all_poss_summ"
   ]
  },
  {
   "cell_type": "code",
   "execution_count": 4,
   "metadata": {},
   "outputs": [
    {
     "data": {
      "text/plain": [
       "[1] 11\n"
      ]
     },
     "metadata": {},
     "output_type": "display_data"
    }
   ],
   "source": [
    "%%R\n",
    "max_idx <- which.max(all_poss_summ$adjr2)\n",
    "max_idx"
   ]
  },
  {
   "cell_type": "code",
   "execution_count": 5,
   "metadata": {},
   "outputs": [
    {
     "data": {
      "image/png": "[encoded data removed]"
     },
     "metadata": {},
     "output_type": "display_data"
    }
   ],
   "source": [
    "%%R\n",
    "plot(all_poss_summ$adjr2, type = \"l\", xlab = \"Number of Explanatory Variables\", ylab = bquote(\"Adjusted R\"^2), main = \"Optimal Number of Explanatory Variables\")\n",
    "points(all_poss_summ$adjr2, pch = 16)\n",
    "points(x = max_idx, y = all_poss_summ$adjr2[max_idx], pch = 16, col = \"red\")"
   ]
  },
  {
   "cell_type": "code",
   "execution_count": 6,
   "metadata": {},
   "outputs": [
    {
     "data": {
      "text/plain": [
       "(Intercept)       AtBat        Hits       HmRun        Runs         RBI \n",
       "       TRUE        TRUE        TRUE       FALSE       FALSE       FALSE \n",
       "      Walks       Years      CAtBat       CHits      CHmRun       CRuns \n",
       "       TRUE       FALSE        TRUE       FALSE       FALSE        TRUE \n",
       "       CRBI      CWalks     LeagueN   DivisionW     PutOuts     Assists \n",
       "       TRUE        TRUE        TRUE        TRUE        TRUE        TRUE \n",
       "     Errors  NewLeagueN \n",
       "      FALSE       FALSE \n"
      ]
     },
     "metadata": {},
     "output_type": "display_data"
    }
   ],
   "source": [
    "%%R\n",
    "##This tells us we want 11 variables in the model.. so which are they?\n",
    "all_poss_summ$which[max_idx,]"
   ]
  },
  {
   "cell_type": "markdown",
   "metadata": {},
   "source": [
    "We see here that using 11 explanatory variables gives us the optimal model for this data set. We will want to use the variables AtBat, Hits, Walks, CAtBat, CRuns, CRBI, CWalks, League, Division, PutOuts, and Assists.\n",
    "\n",
    "For each possible number of explanatory variables (in this case, for 0 explanatory variables up to all 19), All Possible Regressions fits every possible model (determined by the unique combinations of $x_i$'s) and decides which new variable in each number category (as the number increases) is the most significant and therefore most important to include in the model for that specific number of variables. For all of these models, R stores the selection criteria BIC, $R_{adj}^2$, and $C_p$ (which we haven't talked about but is in the book). Then, the user picks one of those and selects the optimal number of variables according to that selection criterion. For example, in what I did above, I used $R_{adj}^2$ and had R tell me what number of variables had the highest $R_{adj}^2$ and which of those variables gave me that $R_{adj}^2$."
   ]
  },
  {
   "cell_type": "code",
   "execution_count": 7,
   "metadata": {},
   "outputs": [
    {
     "data": {
      "text/plain": [
       "Start:  AIC=3215.77\n",
       "Salary ~ 1\n",
       "\n",
       "            Df Sum of Sq      RSS    AIC\n",
       "+ CRBI       1  17139434 36179679 3115.8\n",
       "+ CRuns      1  16881162 36437951 3117.6\n",
       "+ CHits      1  16065140 37253973 3123.5\n",
       "+ CAtBat     1  14759710 38559403 3132.5\n",
       "+ CHmRun     1  14692193 38626920 3133.0\n",
       "+ CWalks     1  12792622 40526491 3145.6\n",
       "+ RBI        1  10771083 42548030 3158.4\n",
       "+ Walks      1  10504833 42814280 3160.1\n",
       "+ Hits       1  10260491 43058621 3161.6\n",
       "+ Runs       1   9399158 43919955 3166.8\n",
       "+ Years      1   8559105 44760007 3171.7\n",
       "+ AtBat      1   8309469 45009644 3173.2\n",
       "+ HmRun      1   6273967 47045145 3184.8\n",
       "+ PutOuts    1   4814100 48505013 3192.9\n",
       "+ Division   1   1976102 51343011 3207.8\n",
       "<none>                   53319113 3215.8\n",
       "+ Assists    1     34497 53284615 3217.6\n",
       "+ League     1     10876 53308237 3217.7\n",
       "+ Errors     1      1555 53317558 3217.8\n",
       "+ NewLeague  1       428 53318684 3217.8\n",
       "\n",
       "Step:  AIC=3115.78\n",
       "Salary ~ CRBI\n",
       "\n",
       "            Df Sum of Sq      RSS    AIC\n",
       "+ Hits       1   5533119 30646560 3074.1\n",
       "+ Runs       1   5176532 31003147 3077.2\n",
       "+ Walks      1   4199733 31979946 3085.3\n",
       "+ AtBat      1   4064585 32115095 3086.4\n",
       "+ RBI        1   3308272 32871407 3092.6\n",
       "+ PutOuts    1   3267035 32912644 3092.9\n",
       "+ Division   1   1733887 34445793 3104.9\n",
       "+ Years      1   1667339 34512340 3105.4\n",
       "+ HmRun      1   1271587 34908092 3108.4\n",
       "+ CRuns      1    354561 35825119 3115.2\n",
       "+ Assists    1    346020 35833659 3115.2\n",
       "<none>                   36179679 3115.8\n",
       "+ Errors     1    194403 35985276 3116.4\n",
       "+ CAtBat     1     92261 36087418 3117.1\n",
       "+ CHits      1     75469 36104210 3117.2\n",
       "+ CWalks     1     51974 36127705 3117.4\n",
       "+ NewLeague  1     17778 36161901 3117.7\n",
       "+ League     1     11825 36167855 3117.7\n",
       "+ CHmRun     1       515 36179165 3117.8\n",
       "\n",
       "Step:  AIC=3074.13\n",
       "Salary ~ CRBI + Hits\n",
       "\n",
       "            Df Sum of Sq      RSS    AIC\n",
       "+ PutOuts    1   1397263 29249297 3063.8\n",
       "+ Division   1   1279275 29367285 3064.9\n",
       "+ AtBat      1    821767 29824793 3069.0\n",
       "+ Walks      1    781767 29864793 3069.3\n",
       "+ Years      1    254910 30391650 3073.9\n",
       "<none>                   30646560 3074.1\n",
       "+ League     1    208880 30437680 3074.3\n",
       "+ CRuns      1    132614 30513946 3075.0\n",
       "+ NewLeague  1    118474 30528086 3075.1\n",
       "+ Runs       1    114198 30532362 3075.1\n",
       "+ Errors     1     99776 30546784 3075.3\n",
       "+ CAtBat     1     83517 30563043 3075.4\n",
       "+ Assists    1     44781 30601779 3075.7\n",
       "+ CWalks     1     23668 30622892 3075.9\n",
       "+ CHmRun     1      4790 30641769 3076.1\n",
       "+ CHits      1      4358 30642202 3076.1\n",
       "+ HmRun      1      2173 30644387 3076.1\n",
       "+ RBI        1      1137 30645423 3076.1\n",
       "\n",
       "Step:  AIC=3063.85\n",
       "Salary ~ CRBI + Hits + PutOuts\n",
       "\n",
       "            Df Sum of Sq      RSS    AIC\n",
       "+ Division   1   1278445 27970852 3054.1\n",
       "+ AtBat      1   1009933 28239364 3056.6\n",
       "+ Walks      1    539490 28709807 3061.0\n",
       "+ CRuns      1    273649 28975648 3063.4\n",
       "<none>                   29249297 3063.8\n",
       "+ Years      1    136906 29112391 3064.6\n",
       "+ League     1    122841 29126456 3064.8\n",
       "+ Runs       1    117930 29131367 3064.8\n",
       "+ Errors     1     97244 29152053 3065.0\n",
       "+ NewLeague  1     57839 29191458 3065.3\n",
       "+ CHits      1     35096 29214201 3065.5\n",
       "+ RBI        1     33965 29215331 3065.6\n",
       "+ HmRun      1     31227 29218070 3065.6\n",
       "+ CWalks     1     28572 29220725 3065.6\n",
       "+ CAtBat     1     20518 29228779 3065.7\n",
       "+ Assists    1      1681 29247616 3065.8\n",
       "+ CHmRun     1      1419 29247878 3065.8\n",
       "\n",
       "Step:  AIC=3054.1\n",
       "Salary ~ CRBI + Hits + PutOuts + Division\n",
       "\n",
       "            Df Sum of Sq      RSS    AIC\n",
       "+ AtBat      1    820952 27149899 3048.3\n",
       "+ Walks      1    491584 27479268 3051.4\n",
       "<none>                   27970852 3054.1\n",
       "+ CRuns      1    193604 27777248 3054.3\n",
       "+ Years      1    166845 27804007 3054.5\n",
       "+ League     1    110628 27860224 3055.1\n",
       "+ Errors     1     81385 27889467 3055.3\n",
       "+ Runs       1     65921 27904931 3055.5\n",
       "+ RBI        1     53719 27917133 3055.6\n",
       "+ NewLeague  1     52275 27918577 3055.6\n",
       "+ CHits      1     33863 27936989 3055.8\n",
       "+ HmRun      1     26390 27944462 3055.8\n",
       "+ CAtBat     1     18751 27952101 3055.9\n",
       "+ CWalks     1      5723 27965129 3056.0\n",
       "+ Assists    1      1036 27969816 3056.1\n",
       "+ CHmRun     1       165 27970687 3056.1\n",
       "\n",
       "Step:  AIC=3048.26\n",
       "Salary ~ CRBI + Hits + PutOuts + Division + AtBat\n",
       "\n",
       "            Df Sum of Sq      RSS    AIC\n",
       "+ Walks      1    954996 26194904 3040.8\n",
       "+ Years      1    253362 26896537 3047.8\n",
       "+ Runs       1    208743 26941157 3048.2\n",
       "<none>                   27149899 3048.3\n",
       "+ CRuns      1    185825 26964075 3048.5\n",
       "+ League     1     95986 27053913 3049.3\n",
       "+ NewLeague  1     52693 27097206 3049.8\n",
       "+ CHmRun     1     43173 27106726 3049.8\n",
       "+ Assists    1     28898 27121001 3050.0\n",
       "+ CAtBat     1     20989 27128910 3050.1\n",
       "+ CWalks     1     15599 27134301 3050.1\n",
       "+ Errors     1      6265 27143634 3050.2\n",
       "+ CHits      1      5305 27144594 3050.2\n",
       "+ RBI        1      1236 27148663 3050.2\n",
       "+ HmRun      1        11 27149888 3050.3\n",
       "\n",
       "Step:  AIC=3040.85\n",
       "Salary ~ CRBI + Hits + PutOuts + Division + AtBat + Walks\n",
       "\n",
       "            Df Sum of Sq      RSS    AIC\n",
       "+ CWalks     1    240687 25954217 3040.4\n",
       "<none>                   26194904 3040.8\n",
       "+ Years      1    184508 26010396 3041.0\n",
       "+ CRuns      1    110695 26084209 3041.7\n",
       "+ League     1     77974 26116930 3042.1\n",
       "+ Assists    1     75782 26119122 3042.1\n",
       "+ NewLeague  1     40909 26153995 3042.4\n",
       "+ CHits      1     37304 26157599 3042.5\n",
       "+ RBI        1     11728 26183176 3042.7\n",
       "+ HmRun      1      4747 26190157 3042.8\n",
       "+ Errors     1      2727 26192177 3042.8\n",
       "+ CAtBat     1      2630 26192274 3042.8\n",
       "+ CHmRun     1       943 26193961 3042.8\n",
       "+ Runs       1        37 26194867 3042.8\n",
       "\n",
       "Step:  AIC=3040.42\n",
       "Salary ~ CRBI + Hits + PutOuts + Division + AtBat + Walks + CWalks\n",
       "\n",
       "            Df Sum of Sq      RSS    AIC\n",
       "+ CRuns      1    794983 25159234 3034.2\n",
       "+ CHits      1    273728 25680489 3039.6\n",
       "<none>                   25954217 3040.4\n",
       "+ Assists    1    138506 25815711 3041.0\n",
       "+ CAtBat     1     89289 25864929 3041.5\n",
       "+ RBI        1     86941 25867276 3041.5\n",
       "+ League     1     77159 25877058 3041.6\n",
       "+ Years      1     70126 25884091 3041.7\n",
       "+ NewLeague  1     37807 25916410 3042.0\n",
       "+ HmRun      1     33601 25920616 3042.1\n",
       "+ CHmRun     1      9034 25945183 3042.3\n",
       "+ Errors     1      6928 25947289 3042.3\n",
       "+ Runs       1        82 25954135 3042.4\n",
       "\n",
       "Step:  AIC=3034.24\n",
       "Salary ~ CRBI + Hits + PutOuts + Division + AtBat + Walks + CWalks + \n",
       "    CRuns\n",
       "\n",
       "            Df Sum of Sq      RSS    AIC\n",
       "+ CAtBat     1    345182 24814051 3032.6\n",
       "+ Years      1    265068 24894165 3033.4\n",
       "<none>                   25159234 3034.2\n",
       "+ CHits      1    173215 24986019 3034.4\n",
       "+ Assists    1    124676 25034558 3034.9\n",
       "+ CHmRun     1     91728 25067505 3035.3\n",
       "+ League     1     72985 25086248 3035.5\n",
       "+ NewLeague  1     25244 25133990 3036.0\n",
       "+ Runs       1     17700 25141534 3036.1\n",
       "+ Errors     1      8531 25150703 3036.2\n",
       "+ HmRun      1      2390 25156844 3036.2\n",
       "+ RBI        1         0 25159234 3036.2\n",
       "\n",
       "Step:  AIC=3032.6\n",
       "Salary ~ CRBI + Hits + PutOuts + Division + AtBat + Walks + CWalks + \n",
       "    CRuns + CAtBat\n",
       "\n",
       "            Df Sum of Sq      RSS    AIC\n",
       "+ Assists    1    313650 24500402 3031.3\n",
       "<none>                   24814051 3032.6\n",
       "+ Runs       1    153499 24660553 3033.0\n",
       "+ League     1    146017 24668034 3033.1\n",
       "+ NewLeague  1     77209 24736842 3033.8\n",
       "+ Years      1     47431 24766620 3034.1\n",
       "+ CHits      1     47127 24766925 3034.1\n",
       "+ Errors     1     43926 24770126 3034.1\n",
       "+ HmRun      1     23132 24790919 3034.4\n",
       "+ CHmRun     1     19917 24794134 3034.4\n",
       "+ RBI        1     19027 24795024 3034.4\n",
       "\n",
       "Step:  AIC=3031.26\n",
       "Salary ~ CRBI + Hits + PutOuts + Division + AtBat + Walks + CWalks + \n",
       "    CRuns + CAtBat + Assists\n",
       "\n",
       "            Df Sum of Sq      RSS    AIC\n",
       "<none>                   24500402 3031.3\n",
       "+ League     1    113056 24387345 3032.0\n",
       "+ Runs       1     75900 24424501 3032.4\n",
       "+ NewLeague  1     64712 24435690 3032.6\n",
       "+ CHits      1     37564 24462838 3032.8\n",
       "+ Errors     1     35264 24465138 3032.9\n",
       "+ Years      1     19883 24480519 3033.0\n",
       "+ CHmRun     1      4356 24496046 3033.2\n",
       "+ HmRun      1      1189 24499212 3033.2\n",
       "+ RBI        1       359 24500043 3033.2\n"
      ]
     },
     "metadata": {},
     "output_type": "display_data"
    }
   ],
   "source": [
    "%%R\n",
    "##c\n",
    "library(MASS)\n",
    "smallest <- lm(Salary ~ 1, data = hitters)\n",
    "largest <- lm(Salary ~ ., data = hitters)\n",
    "\n",
    "# Forward Selection\n",
    "stepAIC(object = smallest, scope = list(upper = largest, lower = smallest), direction = \"forward\")\n",
    "mod_forward <- stepAIC(object = smallest, scope = list(upper = largest, lower = smallest), direction = \"forward\", trace = 0)"
   ]
  },
  {
   "cell_type": "code",
   "execution_count": 8,
   "metadata": {},
   "outputs": [
    {
     "data": {
      "text/plain": [
       "\n",
       "Call:\n",
       "lm(formula = Salary ~ CRBI + Hits + PutOuts + Division + AtBat + \n",
       "    Walks + CWalks + CRuns + CAtBat + Assists, data = hitters)\n",
       "\n",
       "Residuals:\n",
       "    Min      1Q  Median      3Q     Max \n",
       "-939.11 -176.87  -34.08  130.90 1910.55 \n",
       "\n",
       "Coefficients:\n",
       "              Estimate Std. Error t value Pr(>|t|)    \n",
       "(Intercept)  162.53544   66.90784   2.429 0.015830 *  \n",
       "CRBI           0.77431    0.20961   3.694 0.000271 ***\n",
       "Hits           6.91802    1.64665   4.201 3.69e-05 ***\n",
       "PutOuts        0.29737    0.07444   3.995 8.50e-05 ***\n",
       "DivisionW   -112.38006   39.21438  -2.866 0.004511 ** \n",
       "AtBat         -2.16865    0.53630  -4.044 7.00e-05 ***\n",
       "Walks          5.77322    1.58483   3.643 0.000327 ***\n",
       "CWalks        -0.83083    0.26359  -3.152 0.001818 ** \n",
       "CRuns          1.40825    0.39040   3.607 0.000373 ***\n",
       "CAtBat        -0.13008    0.05550  -2.344 0.019858 *  \n",
       "Assists        0.28317    0.15766   1.796 0.073673 .  \n",
       "---\n",
       "Signif. codes:  0 ‘***’ 0.001 ‘**’ 0.01 ‘*’ 0.05 ‘.’ 0.1 ‘ ’ 1\n",
       "\n",
       "Residual standard error: 311.8 on 252 degrees of freedom\n",
       "Multiple R-squared:  0.5405,\tAdjusted R-squared:  0.5223 \n",
       "F-statistic: 29.64 on 10 and 252 DF,  p-value: < 2.2e-16\n",
       "\n"
      ]
     },
     "metadata": {},
     "output_type": "display_data"
    }
   ],
   "source": [
    "%%R\n",
    "summary(mod_forward)"
   ]
  },
  {
   "cell_type": "markdown",
   "metadata": {},
   "source": [
    "Using forward selection, R identified the best model as the one with the 10 variables AtBat, Hits, Walks, CAtBat, CRuns, CRBI, CWalks, PutOuts, Assists, and Division.\n",
    "\n",
    "Forward selection begins by fitting the smallest model possible-- the one with no variables (intercept only). Calculate its AIC. Then, we calculate the AIC for each of the 1 variable models; if the AIC for a 1 variable model is smaller than that of the intercept only model, then we add the 1 variable model with the smallerst AIC. Otherwise, we stick with the current intercept only model. Next, we consider the 2 variable models that have our first chosen variable as one of the two. If the AIC would improve by adding another variable to the model (as indicated by a smaller AIC), then we add the variable that shrinks the AIC the most. Otherwise, we stick with the 1 variable model. This continues until we reach a point where either a) there are no variables we could add that would improve/reduce the AIC or b) we have added all variables to the model. \n",
    "\n",
    "So in this specific case, we started with an AIC of 3215.77 and first added CRBI (which reduced the AIC to 3115.8), then Hits (reducing AIC to 3074.1), then PutOuts, etc. up until after we added Assists, which is when the AIC reached a value (3031.26) that would not be reduced upon adding any of the remaining variables."
   ]
  },
  {
   "cell_type": "code",
   "execution_count": 9,
   "metadata": {},
   "outputs": [
    {
     "data": {
      "text/plain": [
       "Start:  AIC=3046.02\n",
       "Salary ~ AtBat + Hits + HmRun + Runs + RBI + Walks + Years + \n",
       "    CAtBat + CHits + CHmRun + CRuns + CRBI + CWalks + League + \n",
       "    Division + PutOuts + Assists + Errors + NewLeague\n",
       "\n",
       "            Df Sum of Sq      RSS    AIC\n",
       "- CHmRun     1      1138 24201837 3044.0\n",
       "- CHits      1      3930 24204629 3044.1\n",
       "- Years      1      7869 24208569 3044.1\n",
       "- NewLeague  1      9784 24210484 3044.1\n",
       "- RBI        1     16076 24216776 3044.2\n",
       "- HmRun      1     48572 24249272 3044.6\n",
       "- Errors     1     58324 24259023 3044.7\n",
       "- League     1     62121 24262821 3044.7\n",
       "- Runs       1     63291 24263990 3044.7\n",
       "- CRBI       1    135439 24336138 3045.5\n",
       "- CAtBat     1    159864 24360564 3045.8\n",
       "<none>                   24200700 3046.0\n",
       "- Assists    1    280263 24480963 3047.1\n",
       "- CRuns      1    374007 24574707 3048.1\n",
       "- CWalks     1    609408 24810108 3050.6\n",
       "- Division   1    834491 25035190 3052.9\n",
       "- AtBat      1    971288 25171987 3054.4\n",
       "- Hits       1    991242 25191941 3054.6\n",
       "- Walks      1   1156606 25357305 3056.3\n",
       "- PutOuts    1   1319628 25520328 3058.0\n",
       "\n",
       "Step:  AIC=3044.03\n",
       "Salary ~ AtBat + Hits + HmRun + Runs + RBI + Walks + Years + \n",
       "    CAtBat + CHits + CRuns + CRBI + CWalks + League + Division + \n",
       "    PutOuts + Assists + Errors + NewLeague\n",
       "\n",
       "            Df Sum of Sq      RSS    AIC\n",
       "- Years      1      7609 24209447 3042.1\n",
       "- NewLeague  1     10268 24212106 3042.2\n",
       "- CHits      1     14003 24215840 3042.2\n",
       "- RBI        1     14955 24216793 3042.2\n",
       "- HmRun      1     52777 24254614 3042.6\n",
       "- Errors     1     59530 24261367 3042.7\n",
       "- League     1     63407 24265244 3042.7\n",
       "- Runs       1     64860 24266698 3042.7\n",
       "- CAtBat     1    174992 24376830 3043.9\n",
       "<none>                   24201837 3044.0\n",
       "- Assists    1    285766 24487603 3045.1\n",
       "- CRuns      1    611358 24813196 3048.6\n",
       "- CWalks     1    645627 24847464 3049.0\n",
       "- Division   1    834637 25036474 3050.9\n",
       "- CRBI       1    864220 25066057 3051.3\n",
       "- AtBat      1    970861 25172699 3052.4\n",
       "- Hits       1   1025981 25227819 3052.9\n",
       "- Walks      1   1167378 25369216 3054.4\n",
       "- PutOuts    1   1325273 25527110 3056.1\n",
       "\n",
       "Step:  AIC=3042.12\n",
       "Salary ~ AtBat + Hits + HmRun + Runs + RBI + Walks + CAtBat + \n",
       "    CHits + CRuns + CRBI + CWalks + League + Division + PutOuts + \n",
       "    Assists + Errors + NewLeague\n",
       "\n",
       "            Df Sum of Sq      RSS    AIC\n",
       "- NewLeague  1      9931 24219377 3040.2\n",
       "- RBI        1     15989 24225436 3040.3\n",
       "- CHits      1     18291 24227738 3040.3\n",
       "- HmRun      1     54144 24263591 3040.7\n",
       "- Errors     1     57312 24266759 3040.7\n",
       "- Runs       1     63172 24272619 3040.8\n",
       "- League     1     65732 24275178 3040.8\n",
       "<none>                   24209447 3042.1\n",
       "- CAtBat     1    266205 24475652 3043.0\n",
       "- Assists    1    293479 24502926 3043.3\n",
       "- CRuns      1    646350 24855797 3047.1\n",
       "- CWalks     1    649269 24858716 3047.1\n",
       "- Division   1    827511 25036958 3049.0\n",
       "- CRBI       1    872121 25081568 3049.4\n",
       "- AtBat      1    968713 25178160 3050.4\n",
       "- Hits       1   1018379 25227825 3050.9\n",
       "- Walks      1   1164536 25373983 3052.5\n",
       "- PutOuts    1   1334525 25543972 3054.2\n",
       "\n",
       "Step:  AIC=3040.22\n",
       "Salary ~ AtBat + Hits + HmRun + Runs + RBI + Walks + CAtBat + \n",
       "    CHits + CRuns + CRBI + CWalks + League + Division + PutOuts + \n",
       "    Assists + Errors\n",
       "\n",
       "           Df Sum of Sq      RSS    AIC\n",
       "- RBI       1     15800 24235177 3038.4\n",
       "- CHits     1     15859 24235237 3038.4\n",
       "- Errors    1     54505 24273883 3038.8\n",
       "- HmRun     1     54938 24274316 3038.8\n",
       "- Runs      1     62294 24281671 3038.9\n",
       "- League    1    107479 24326856 3039.4\n",
       "<none>                  24219377 3040.2\n",
       "- CAtBat    1    261336 24480713 3041.1\n",
       "- Assists   1    295536 24514914 3041.4\n",
       "- CWalks    1    648860 24868237 3045.2\n",
       "- CRuns     1    661449 24880826 3045.3\n",
       "- Division  1    824672 25044049 3047.0\n",
       "- CRBI      1    880429 25099806 3047.6\n",
       "- AtBat     1    999057 25218434 3048.9\n",
       "- Hits      1   1034463 25253840 3049.2\n",
       "- Walks     1   1157205 25376583 3050.5\n",
       "- PutOuts   1   1335173 25554550 3052.3\n",
       "\n",
       "Step:  AIC=3038.4\n",
       "Salary ~ AtBat + Hits + HmRun + Runs + Walks + CAtBat + CHits + \n",
       "    CRuns + CRBI + CWalks + League + Division + PutOuts + Assists + \n",
       "    Errors\n",
       "\n",
       "           Df Sum of Sq      RSS    AIC\n",
       "- CHits     1     13483 24248660 3036.5\n",
       "- HmRun     1     44586 24279763 3036.9\n",
       "- Runs      1     54057 24289234 3037.0\n",
       "- Errors    1     57656 24292833 3037.0\n",
       "- League    1    108644 24343821 3037.6\n",
       "<none>                  24235177 3038.4\n",
       "- CAtBat    1    252756 24487934 3039.1\n",
       "- Assists   1    294674 24529851 3039.6\n",
       "- CWalks    1    639690 24874868 3043.2\n",
       "- CRuns     1    693535 24928712 3043.8\n",
       "- Division  1    808984 25044161 3045.0\n",
       "- CRBI      1    893830 25129008 3045.9\n",
       "- Hits      1   1034884 25270061 3047.4\n",
       "- AtBat     1   1042798 25277975 3047.5\n",
       "- Walks     1   1145013 25380191 3048.5\n",
       "- PutOuts   1   1340713 25575890 3050.6\n",
       "\n",
       "Step:  AIC=3036.54\n",
       "Salary ~ AtBat + Hits + HmRun + Runs + Walks + CAtBat + CRuns + \n",
       "    CRBI + CWalks + League + Division + PutOuts + Assists + Errors\n",
       "\n",
       "           Df Sum of Sq      RSS    AIC\n",
       "- HmRun     1     40487 24289148 3035.0\n",
       "- Errors    1     51930 24300590 3035.1\n",
       "- Runs      1     79343 24328003 3035.4\n",
       "- League    1    114742 24363402 3035.8\n",
       "<none>                  24248660 3036.5\n",
       "- Assists   1    283442 24532103 3037.6\n",
       "- CAtBat    1    613356 24862016 3041.1\n",
       "- Division  1    801474 25050134 3043.1\n",
       "- CRBI      1    903248 25151908 3044.2\n",
       "- CWalks    1   1011953 25260613 3045.3\n",
       "- Walks     1   1246164 25494824 3047.7\n",
       "- AtBat     1   1339620 25588280 3048.7\n",
       "- CRuns     1   1390808 25639469 3049.2\n",
       "- PutOuts   1   1406023 25654684 3049.4\n",
       "- Hits      1   1607990 25856650 3051.4\n",
       "\n",
       "Step:  AIC=3034.98\n",
       "Salary ~ AtBat + Hits + Runs + Walks + CAtBat + CRuns + CRBI + \n",
       "    CWalks + League + Division + PutOuts + Assists + Errors\n",
       "\n",
       "           Df Sum of Sq      RSS    AIC\n",
       "- Errors    1     44085 24333232 3033.5\n",
       "- Runs      1     49068 24338215 3033.5\n",
       "- League    1    103837 24392985 3034.1\n",
       "<none>                  24289148 3035.0\n",
       "- Assists   1    247002 24536150 3035.6\n",
       "- CAtBat    1    652746 24941894 3040.0\n",
       "- Division  1    795643 25084791 3041.5\n",
       "- CWalks    1    982896 25272044 3043.4\n",
       "- Walks     1   1205823 25494971 3045.7\n",
       "- AtBat     1   1300972 25590120 3046.7\n",
       "- CRuns     1   1351200 25640348 3047.2\n",
       "- CRBI      1   1353507 25642655 3047.2\n",
       "- PutOuts   1   1429006 25718154 3048.0\n",
       "- Hits      1   1574140 25863288 3049.5\n",
       "\n",
       "Step:  AIC=3033.46\n",
       "Salary ~ AtBat + Hits + Runs + Walks + CAtBat + CRuns + CRBI + \n",
       "    CWalks + League + Division + PutOuts + Assists\n",
       "\n",
       "           Df Sum of Sq      RSS    AIC\n",
       "- Runs      1     54113 24387345 3032.0\n",
       "- League    1     91269 24424501 3032.4\n",
       "<none>                  24333232 3033.5\n",
       "- Assists   1    220010 24553242 3033.8\n",
       "- CAtBat    1    650513 24983746 3038.4\n",
       "- Division  1    799455 25132687 3040.0\n",
       "- CWalks    1    971260 25304493 3041.8\n",
       "- Walks     1   1239533 25572765 3044.5\n",
       "- CRBI      1   1331672 25664904 3045.5\n",
       "- CRuns     1   1361070 25694302 3045.8\n",
       "- AtBat     1   1378592 25711824 3045.9\n",
       "- PutOuts   1   1391660 25724892 3046.1\n",
       "- Hits      1   1649291 25982523 3048.7\n",
       "\n",
       "Step:  AIC=3032.04\n",
       "Salary ~ AtBat + Hits + Walks + CAtBat + CRuns + CRBI + CWalks + \n",
       "    League + Division + PutOuts + Assists\n",
       "\n",
       "           Df Sum of Sq      RSS    AIC\n",
       "- League    1    113056 24500402 3031.3\n",
       "<none>                  24387345 3032.0\n",
       "- Assists   1    280689 24668034 3033.1\n",
       "- CAtBat    1    596622 24983967 3036.4\n",
       "- Division  1    780369 25167714 3038.3\n",
       "- CWalks    1    946687 25334032 3040.1\n",
       "- Walks     1   1212997 25600342 3042.8\n",
       "- CRuns     1   1334397 25721742 3044.1\n",
       "- CRBI      1   1361339 25748684 3044.3\n",
       "- PutOuts   1   1455210 25842555 3045.3\n",
       "- AtBat     1   1522760 25910105 3046.0\n",
       "- Hits      1   1718870 26106215 3047.9\n",
       "\n",
       "Step:  AIC=3031.26\n",
       "Salary ~ AtBat + Hits + Walks + CAtBat + CRuns + CRBI + CWalks + \n",
       "    Division + PutOuts + Assists\n",
       "\n",
       "           Df Sum of Sq      RSS    AIC\n",
       "<none>                  24500402 3031.3\n",
       "- Assists   1    313650 24814051 3032.6\n",
       "- CAtBat    1    534156 25034558 3034.9\n",
       "- Division  1    798473 25298875 3037.7\n",
       "- CWalks    1    965875 25466276 3039.4\n",
       "- CRuns     1   1265082 25765484 3042.5\n",
       "- Walks     1   1290168 25790569 3042.8\n",
       "- CRBI      1   1326770 25827172 3043.1\n",
       "- PutOuts   1   1551523 26051925 3045.4\n",
       "- AtBat     1   1589780 26090181 3045.8\n",
       "- Hits      1   1716068 26216469 3047.1\n"
      ]
     },
     "metadata": {},
     "output_type": "display_data"
    }
   ],
   "source": [
    "%%R\n",
    "#d\n",
    "# Backward elimination\n",
    "stepAIC(object = largest, scope = list(upper = largest, lower = smallest), direction = \"backward\")\n",
    "mod_backward <- stepAIC(object = largest, scope = list(upper = largest, lower = smallest), direction = \"backward\", trace = 0)"
   ]
  },
  {
   "cell_type": "code",
   "execution_count": 10,
   "metadata": {},
   "outputs": [
    {
     "data": {
      "text/plain": [
       "\n",
       "Call:\n",
       "lm(formula = Salary ~ AtBat + Hits + Walks + CAtBat + CRuns + \n",
       "    CRBI + CWalks + Division + PutOuts + Assists, data = hitters)\n",
       "\n",
       "Residuals:\n",
       "    Min      1Q  Median      3Q     Max \n",
       "-939.11 -176.87  -34.08  130.90 1910.55 \n",
       "\n",
       "Coefficients:\n",
       "              Estimate Std. Error t value Pr(>|t|)    \n",
       "(Intercept)  162.53544   66.90784   2.429 0.015830 *  \n",
       "AtBat         -2.16865    0.53630  -4.044 7.00e-05 ***\n",
       "Hits           6.91802    1.64665   4.201 3.69e-05 ***\n",
       "Walks          5.77322    1.58483   3.643 0.000327 ***\n",
       "CAtBat        -0.13008    0.05550  -2.344 0.019858 *  \n",
       "CRuns          1.40825    0.39040   3.607 0.000373 ***\n",
       "CRBI           0.77431    0.20961   3.694 0.000271 ***\n",
       "CWalks        -0.83083    0.26359  -3.152 0.001818 ** \n",
       "DivisionW   -112.38006   39.21438  -2.866 0.004511 ** \n",
       "PutOuts        0.29737    0.07444   3.995 8.50e-05 ***\n",
       "Assists        0.28317    0.15766   1.796 0.073673 .  \n",
       "---\n",
       "Signif. codes:  0 ‘***’ 0.001 ‘**’ 0.01 ‘*’ 0.05 ‘.’ 0.1 ‘ ’ 1\n",
       "\n",
       "Residual standard error: 311.8 on 252 degrees of freedom\n",
       "Multiple R-squared:  0.5405,\tAdjusted R-squared:  0.5223 \n",
       "F-statistic: 29.64 on 10 and 252 DF,  p-value: < 2.2e-16\n",
       "\n"
      ]
     },
     "metadata": {},
     "output_type": "display_data"
    }
   ],
   "source": [
    "%%R\n",
    "summary(mod_backward)"
   ]
  },
  {
   "cell_type": "markdown",
   "metadata": {},
   "source": [
    "With backward elimination, the model with the 10 variables AtBat, Hits, Walks, CAtBat, CRuns, CRBI, CWalks, PutOuts, Assists, and Division was also deemed the best model.\n",
    "\n",
    "In backward elimination, we begin by fitting the largest model possible-- the full model. Calculate its AIC. Then, we calculate the AIC for each of the $n-1 = 18$ variable models; if the AIC for an 18 variable model is smaller than that of the full model, then we take the 18 variable model without the variable that, upon removal, lowers the AIC the most. Otherwise, we stick with the current full model. Next, we consider the $n-2 = 17$ variable models that have our first chosen variable as one of the two. If the AIC would decrease by dropping another variable to the model, then we drop the variable that shrinks the AIC the most. Otherwise, we stick with the 18 variable model. This continues until we reach a model where either a) there are no variables we could remove that would improve/reduce the AIC or b) we have eliminated all variables from the model. \n",
    "\n",
    "So in this specific case, we started with an AIC of 3046.02 and first dropped CHmRun (which reduced the AIC to 3044.03), then dropped Years (reducing AIC to 3042.1), then New League, etc. up until after we eliminated League, which is when the AIC reached a value (3031.26) that would not be reduced upon getting rid any of the remaining variables."
   ]
  },
  {
   "cell_type": "code",
   "execution_count": 11,
   "metadata": {},
   "outputs": [
    {
     "data": {
      "text/plain": [
       "Start:  AIC=3215.77\n",
       "Salary ~ 1\n",
       "\n",
       "            Df Sum of Sq      RSS    AIC\n",
       "+ CRBI       1  17139434 36179679 3115.8\n",
       "+ CRuns      1  16881162 36437951 3117.6\n",
       "+ CHits      1  16065140 37253973 3123.5\n",
       "+ CAtBat     1  14759710 38559403 3132.5\n",
       "+ CHmRun     1  14692193 38626920 3133.0\n",
       "+ CWalks     1  12792622 40526491 3145.6\n",
       "+ RBI        1  10771083 42548030 3158.4\n",
       "+ Walks      1  10504833 42814280 3160.1\n",
       "+ Hits       1  10260491 43058621 3161.6\n",
       "+ Runs       1   9399158 43919955 3166.8\n",
       "+ Years      1   8559105 44760007 3171.7\n",
       "+ AtBat      1   8309469 45009644 3173.2\n",
       "+ HmRun      1   6273967 47045145 3184.8\n",
       "+ PutOuts    1   4814100 48505013 3192.9\n",
       "+ Division   1   1976102 51343011 3207.8\n",
       "<none>                   53319113 3215.8\n",
       "+ Assists    1     34497 53284615 3217.6\n",
       "+ League     1     10876 53308237 3217.7\n",
       "+ Errors     1      1555 53317558 3217.8\n",
       "+ NewLeague  1       428 53318684 3217.8\n",
       "\n",
       "Step:  AIC=3115.78\n",
       "Salary ~ CRBI\n",
       "\n",
       "            Df Sum of Sq      RSS    AIC\n",
       "+ Hits       1   5533119 30646560 3074.1\n",
       "+ Runs       1   5176532 31003147 3077.2\n",
       "+ Walks      1   4199733 31979946 3085.3\n",
       "+ AtBat      1   4064585 32115095 3086.4\n",
       "+ RBI        1   3308272 32871407 3092.6\n",
       "+ PutOuts    1   3267035 32912644 3092.9\n",
       "+ Division   1   1733887 34445793 3104.9\n",
       "+ Years      1   1667339 34512340 3105.4\n",
       "+ HmRun      1   1271587 34908092 3108.4\n",
       "+ CRuns      1    354561 35825119 3115.2\n",
       "+ Assists    1    346020 35833659 3115.3\n",
       "<none>                   36179679 3115.8\n",
       "+ Errors     1    194403 35985276 3116.4\n",
       "+ CAtBat     1     92261 36087418 3117.1\n",
       "+ CHits      1     75469 36104210 3117.2\n",
       "+ CWalks     1     51974 36127705 3117.4\n",
       "+ NewLeague  1     17778 36161901 3117.6\n",
       "+ League     1     11825 36167855 3117.7\n",
       "+ CHmRun     1       515 36179165 3117.8\n",
       "- CRBI       1  17139434 53319113 3215.8\n",
       "\n",
       "Step:  AIC=3074.13\n",
       "Salary ~ CRBI + Hits\n",
       "\n",
       "            Df Sum of Sq      RSS    AIC\n",
       "+ PutOuts    1   1397263 29249297 3063.8\n",
       "+ Division   1   1279275 29367285 3064.9\n",
       "+ AtBat      1    821767 29824793 3069.0\n",
       "+ Walks      1    781767 29864793 3069.3\n",
       "+ Years      1    254910 30391650 3073.9\n",
       "<none>                   30646560 3074.1\n",
       "+ League     1    208880 30437680 3074.3\n",
       "+ CRuns      1    132614 30513946 3075.0\n",
       "+ NewLeague  1    118474 30528086 3075.1\n",
       "+ Runs       1    114198 30532362 3075.1\n",
       "+ Errors     1     99776 30546784 3075.3\n",
       "+ CAtBat     1     83517 30563043 3075.4\n",
       "+ Assists    1     44781 30601779 3075.7\n",
       "+ CWalks     1     23668 30622892 3075.9\n",
       "+ CHmRun     1      4790 30641769 3076.1\n",
       "+ CHits      1      4358 30642202 3076.1\n",
       "+ HmRun      1      2173 30644387 3076.1\n",
       "+ RBI        1      1137 30645423 3076.1\n",
       "- Hits       1   5533119 36179679 3115.8\n",
       "- CRBI       1  12412061 43058621 3161.6\n",
       "\n",
       "Step:  AIC=3063.85\n",
       "Salary ~ CRBI + Hits + PutOuts\n",
       "\n",
       "            Df Sum of Sq      RSS    AIC\n",
       "+ Division   1   1278445 27970852 3054.1\n",
       "+ AtBat      1   1009933 28239364 3056.6\n",
       "+ Walks      1    539490 28709807 3061.0\n",
       "+ CRuns      1    273649 28975648 3063.4\n",
       "<none>                   29249297 3063.8\n",
       "+ Years      1    136906 29112391 3064.6\n",
       "+ League     1    122841 29126456 3064.8\n",
       "+ Runs       1    117930 29131367 3064.8\n",
       "+ Errors     1     97244 29152053 3065.0\n",
       "+ NewLeague  1     57839 29191458 3065.3\n",
       "+ CHits      1     35096 29214201 3065.5\n",
       "+ RBI        1     33965 29215331 3065.6\n",
       "+ HmRun      1     31227 29218070 3065.6\n",
       "+ CWalks     1     28572 29220725 3065.6\n",
       "+ CAtBat     1     20518 29228779 3065.7\n",
       "+ Assists    1      1681 29247616 3065.8\n",
       "+ CHmRun     1      1419 29247878 3065.8\n",
       "- PutOuts    1   1397263 30646560 3074.1\n",
       "- Hits       1   3663347 32912644 3092.9\n",
       "- CRBI       1  12135913 41385210 3153.1\n",
       "\n",
       "Step:  AIC=3054.1\n",
       "Salary ~ CRBI + Hits + PutOuts + Division\n",
       "\n",
       "            Df Sum of Sq      RSS    AIC\n",
       "+ AtBat      1    820952 27149899 3048.3\n",
       "+ Walks      1    491584 27479268 3051.4\n",
       "<none>                   27970852 3054.1\n",
       "+ CRuns      1    193604 27777248 3054.3\n",
       "+ Years      1    166845 27804007 3054.5\n",
       "+ League     1    110628 27860224 3055.1\n",
       "+ Errors     1     81385 27889467 3055.3\n",
       "+ Runs       1     65921 27904931 3055.5\n",
       "+ RBI        1     53719 27917133 3055.6\n",
       "+ NewLeague  1     52275 27918577 3055.6\n",
       "+ CHits      1     33863 27936989 3055.8\n",
       "+ HmRun      1     26390 27944462 3055.8\n",
       "+ CAtBat     1     18751 27952101 3055.9\n",
       "+ CWalks     1      5723 27965129 3056.0\n",
       "+ Assists    1      1036 27969816 3056.1\n",
       "+ CHmRun     1       165 27970687 3056.1\n",
       "- Division   1   1278445 29249297 3063.8\n",
       "- PutOuts    1   1396433 29367285 3064.9\n",
       "- Hits       1   3316645 31287497 3081.6\n",
       "- CRBI       1  12109171 40080022 3146.7\n",
       "\n",
       "Step:  AIC=3048.26\n",
       "Salary ~ CRBI + Hits + PutOuts + Division + AtBat\n",
       "\n",
       "            Df Sum of Sq      RSS    AIC\n",
       "+ Walks      1    954996 26194904 3040.8\n",
       "+ Years      1    253362 26896537 3047.8\n",
       "+ Runs       1    208743 26941157 3048.2\n",
       "<none>                   27149899 3048.3\n",
       "+ CRuns      1    185825 26964075 3048.5\n",
       "+ League     1     95986 27053913 3049.3\n",
       "+ NewLeague  1     52693 27097206 3049.8\n",
       "+ CHmRun     1     43173 27106726 3049.8\n",
       "+ Assists    1     28898 27121001 3050.0\n",
       "+ CAtBat     1     20989 27128910 3050.1\n",
       "+ CWalks     1     15599 27134301 3050.1\n",
       "+ Errors     1      6265 27143634 3050.2\n",
       "+ CHits      1      5305 27144594 3050.2\n",
       "+ RBI        1      1236 27148663 3050.2\n",
       "+ HmRun      1        11 27149888 3050.3\n",
       "- AtBat      1    820952 27970852 3054.1\n",
       "- Division   1   1089464 28239364 3056.6\n",
       "- PutOuts    1   1565295 28715194 3061.0\n",
       "- Hits       1   1919657 29069556 3064.2\n",
       "- CRBI       1  12322455 39472354 3144.7\n",
       "\n",
       "Step:  AIC=3040.85\n",
       "Salary ~ CRBI + Hits + PutOuts + Division + AtBat + Walks\n",
       "\n",
       "            Df Sum of Sq      RSS    AIC\n",
       "+ CWalks     1    240687 25954217 3040.4\n",
       "<none>                   26194904 3040.8\n",
       "+ Years      1    184508 26010396 3041.0\n",
       "+ CRuns      1    110695 26084209 3041.7\n",
       "+ League     1     77974 26116930 3042.1\n",
       "+ Assists    1     75782 26119122 3042.1\n",
       "+ NewLeague  1     40909 26153995 3042.4\n",
       "+ CHits      1     37304 26157599 3042.5\n",
       "+ RBI        1     11728 26183176 3042.7\n",
       "+ HmRun      1      4747 26190157 3042.8\n",
       "+ Errors     1      2727 26192177 3042.8\n",
       "+ CAtBat     1      2630 26192274 3042.8\n",
       "+ CHmRun     1       943 26193961 3042.8\n",
       "+ Runs       1        37 26194867 3042.8\n",
       "- Walks      1    954996 27149899 3048.3\n",
       "- Division   1    975519 27170423 3048.5\n",
       "- PutOuts    1   1278554 27473458 3051.4\n",
       "- AtBat      1   1284364 27479268 3051.4\n",
       "- Hits       1   2140721 28335625 3059.5\n",
       "- CRBI       1  10190333 36385237 3125.3\n",
       "\n",
       "Step:  AIC=3040.42\n",
       "Salary ~ CRBI + Hits + PutOuts + Division + AtBat + Walks + CWalks\n",
       "\n",
       "            Df Sum of Sq      RSS    AIC\n",
       "+ CRuns      1    794983 25159234 3034.2\n",
       "+ CHits      1    273728 25680489 3039.6\n",
       "<none>                   25954217 3040.4\n",
       "- CWalks     1    240687 26194904 3040.8\n",
       "+ Assists    1    138506 25815711 3041.0\n",
       "+ CAtBat     1     89289 25864929 3041.5\n",
       "+ RBI        1     86941 25867276 3041.5\n",
       "+ League     1     77159 25877058 3041.6\n",
       "+ Years      1     70126 25884091 3041.7\n",
       "+ NewLeague  1     37807 25916410 3042.0\n",
       "+ HmRun      1     33601 25920616 3042.1\n",
       "+ CHmRun     1      9034 25945183 3042.3\n",
       "+ Errors     1      6928 25947289 3042.3\n",
       "+ Runs       1        82 25954135 3042.4\n",
       "- Division   1   1037985 26992202 3048.7\n",
       "- PutOuts    1   1164004 27118221 3050.0\n",
       "- Walks      1   1180084 27134301 3050.1\n",
       "- AtBat      1   1394120 27348337 3052.2\n",
       "- Hits       1   2047089 28001306 3058.4\n",
       "- CRBI       1   3238114 29192331 3069.3\n",
       "\n",
       "Step:  AIC=3034.24\n",
       "Salary ~ CRBI + Hits + PutOuts + Division + AtBat + Walks + CWalks + \n",
       "    CRuns\n",
       "\n",
       "            Df Sum of Sq      RSS    AIC\n",
       "+ CAtBat     1    345182 24814051 3032.6\n",
       "+ Years      1    265068 24894165 3033.4\n",
       "<none>                   25159234 3034.2\n",
       "+ CHits      1    173215 24986019 3034.4\n",
       "+ Assists    1    124676 25034558 3034.9\n",
       "+ CHmRun     1     91728 25067505 3035.3\n",
       "+ League     1     72985 25086248 3035.5\n",
       "+ NewLeague  1     25244 25133990 3036.0\n",
       "+ Runs       1     17700 25141534 3036.1\n",
       "+ Errors     1      8531 25150703 3036.2\n",
       "+ HmRun      1      2390 25156844 3036.2\n",
       "+ RBI        1         0 25159234 3036.2\n",
       "- CRBI       1    774254 25933487 3040.2\n",
       "- CRuns      1    794983 25954217 3040.4\n",
       "- CWalks     1    924975 26084209 3041.7\n",
       "- Division   1    983230 26142464 3042.3\n",
       "- PutOuts    1   1360346 26519580 3046.1\n",
       "- AtBat      1   1499112 26658346 3047.5\n",
       "- Hits       1   1705171 26864405 3049.5\n",
       "- Walks      1   1773473 26932707 3050.2\n",
       "\n",
       "Step:  AIC=3032.6\n",
       "Salary ~ CRBI + Hits + PutOuts + Division + AtBat + Walks + CWalks + \n",
       "    CRuns + CAtBat\n",
       "\n",
       "            Df Sum of Sq      RSS    AIC\n",
       "+ Assists    1    313650 24500402 3031.3\n",
       "<none>                   24814051 3032.6\n",
       "+ Runs       1    153499 24660553 3033.0\n",
       "+ League     1    146017 24668034 3033.1\n",
       "+ NewLeague  1     77209 24736842 3033.8\n",
       "+ Years      1     47431 24766620 3034.1\n",
       "+ CHits      1     47127 24766925 3034.1\n",
       "+ Errors     1     43926 24770126 3034.1\n",
       "- CAtBat     1    345182 25159234 3034.2\n",
       "+ HmRun      1     23132 24790919 3034.4\n",
       "+ CHmRun     1     19917 24794134 3034.4\n",
       "+ RBI        1     19027 24795024 3034.4\n",
       "- Division   1    842725 25656777 3039.4\n",
       "- CWalks     1    857603 25671655 3039.5\n",
       "- CRuns      1   1050877 25864929 3041.5\n",
       "- CRBI       1   1064218 25878269 3041.7\n",
       "- Walks      1   1200453 26014504 3043.0\n",
       "- AtBat      1   1345981 26160032 3044.5\n",
       "- PutOuts    1   1383182 26197233 3044.9\n",
       "- Hits       1   1601382 26415433 3047.1\n",
       "\n",
       "Step:  AIC=3031.26\n",
       "Salary ~ CRBI + Hits + PutOuts + Division + AtBat + Walks + CWalks + \n",
       "    CRuns + CAtBat + Assists\n",
       "\n",
       "            Df Sum of Sq      RSS    AIC\n",
       "<none>                   24500402 3031.3\n",
       "+ League     1    113056 24387345 3032.0\n",
       "+ Runs       1     75900 24424501 3032.4\n",
       "+ NewLeague  1     64712 24435690 3032.6\n",
       "- Assists    1    313650 24814051 3032.6\n",
       "+ CHits      1     37564 24462838 3032.8\n",
       "+ Errors     1     35264 24465138 3032.9\n",
       "+ Years      1     19883 24480519 3033.0\n",
       "+ CHmRun     1      4356 24496046 3033.2\n",
       "+ HmRun      1      1189 24499212 3033.2\n",
       "+ RBI        1       359 24500043 3033.2\n",
       "- CAtBat     1    534156 25034558 3034.9\n",
       "- Division   1    798473 25298875 3037.7\n",
       "- CWalks     1    965875 25466276 3039.4\n",
       "- CRuns      1   1265082 25765484 3042.5\n",
       "- Walks      1   1290168 25790569 3042.8\n",
       "- CRBI       1   1326770 25827172 3043.1\n",
       "- PutOuts    1   1551523 26051925 3045.4\n",
       "- AtBat      1   1589780 26090181 3045.8\n",
       "- Hits       1   1716068 26216469 3047.1\n"
      ]
     },
     "metadata": {},
     "output_type": "display_data"
    }
   ],
   "source": [
    "%%R\n",
    "#e\n",
    "# Hybrid\n",
    "stepAIC(object = smallest, scope = list(upper = largest, lower = smallest), direction = \"both\")\n",
    "mod_hybrid <- stepAIC(object = smallest, scope = list(upper = largest, lower = smallest), direction = \"both\", trace = 0)"
   ]
  },
  {
   "cell_type": "code",
   "execution_count": 12,
   "metadata": {},
   "outputs": [
    {
     "data": {
      "text/plain": [
       "\n",
       "Call:\n",
       "lm(formula = Salary ~ CRBI + Hits + PutOuts + Division + AtBat + \n",
       "    Walks + CWalks + CRuns + CAtBat + Assists, data = hitters)\n",
       "\n",
       "Residuals:\n",
       "    Min      1Q  Median      3Q     Max \n",
       "-939.11 -176.87  -34.08  130.90 1910.55 \n",
       "\n",
       "Coefficients:\n",
       "              Estimate Std. Error t value Pr(>|t|)    \n",
       "(Intercept)  162.53544   66.90784   2.429 0.015830 *  \n",
       "CRBI           0.77431    0.20961   3.694 0.000271 ***\n",
       "Hits           6.91802    1.64665   4.201 3.69e-05 ***\n",
       "PutOuts        0.29737    0.07444   3.995 8.50e-05 ***\n",
       "DivisionW   -112.38006   39.21438  -2.866 0.004511 ** \n",
       "AtBat         -2.16865    0.53630  -4.044 7.00e-05 ***\n",
       "Walks          5.77322    1.58483   3.643 0.000327 ***\n",
       "CWalks        -0.83083    0.26359  -3.152 0.001818 ** \n",
       "CRuns          1.40825    0.39040   3.607 0.000373 ***\n",
       "CAtBat        -0.13008    0.05550  -2.344 0.019858 *  \n",
       "Assists        0.28317    0.15766   1.796 0.073673 .  \n",
       "---\n",
       "Signif. codes:  0 ‘***’ 0.001 ‘**’ 0.01 ‘*’ 0.05 ‘.’ 0.1 ‘ ’ 1\n",
       "\n",
       "Residual standard error: 311.8 on 252 degrees of freedom\n",
       "Multiple R-squared:  0.5405,\tAdjusted R-squared:  0.5223 \n",
       "F-statistic: 29.64 on 10 and 252 DF,  p-value: < 2.2e-16\n",
       "\n"
      ]
     },
     "metadata": {},
     "output_type": "display_data"
    }
   ],
   "source": [
    "%%R\n",
    "summary(mod_hybrid)"
   ]
  },
  {
   "cell_type": "markdown",
   "metadata": {},
   "source": [
    "As with the previous two stepwise selection techniques, hybrid selection decided the model with the 10 variables AtBat, Hits, Walks, CAtBat, CRuns, CRBI, CWalks, PutOuts, Assists, and Division was the best.\n",
    "\n",
    "Hybrid selection begins as Forward Selection does-- by fitting the intercept only model, calculating the AIC, and considering all 1 variable models. If the AIC for a 1 variable model is smaller than that of the intercept only model, then we take the 1 variable model with the variable for which the AIC will be the smallest. Otherwise, we stick with the intercept only model. Next, we consider all 2 variable models that have our first chosen variable as one of the two. If the AIC would improve by adding another variable to the model (as indicated by a smaller AIC), then we add the variable that shrinks the AIC the most. Otherwise, we stick with the 1 variable model. (R also considers dropping the first variable, which is redundant, as if this would lower AIC, we would not have added the variable in the first place.) Then, we consider all 3 variable models with the first two chosen variables and an additional one. If the AIC would decrease with another variable added, then we take that three variable model with the smallest AIC. At this step and for the remaining steps, R considers the AICs for all models with one additional variable and one fewer variable (taking all combinations). This allows for the possibility of getting rid of a variable that would be important if we were going to stick to a fixed, small-variable model but may not be important as other variable interactions are added to the model. This continues until we reach a point where  there are no variables we could add or drop that would improve/reduce the AIC.\n",
    "\n",
    "So in this specific case, we again started with an AIC of 3215.77 and first added CRBI (which reduced the AIC to 3115.8), then Hits (reducing AIC to 3074.1), then PutOuts, etc. up until after we added Assists, which is when the AIC reached a value (3031.26) that would not be reduced upon adding any of the remaining variables. Note that in this selection, we did not ever need to eliminate a variable, but at each step, R did consider what the resulting AIC would be if one of the current variables was dropped (this is indicated by the - sign in the stepAIC table printout)."
   ]
  },
  {
   "cell_type": "code",
   "execution_count": 13,
   "metadata": {},
   "outputs": [
    {
     "data": {
      "text/plain": [
       "297.3892792917757"
      ]
     },
     "execution_count": 13,
     "metadata": {},
     "output_type": "execute_result"
    }
   ],
   "source": [
    "##f\n",
    "y = hitters['Salary']\n",
    "X = hitters.drop(['Salary', 'League', 'Division', 'NewLeague'], axis = 1)\n",
    "league = pd.get_dummies(hitters['League'])\n",
    "division = pd.get_dummies(hitters['Division'])\n",
    "new_league = pd.get_dummies(hitters['NewLeague'])\n",
    "X = pd.concat([X, league['A'], division['E'], new_league['A']], axis = 1)\n",
    "X.columns = ['AtBat', 'Hits', 'HmRun', 'Runs', 'RBI', 'Walks', 'Years', 'CAtBat', 'CHits', 'CHmRun', 'CRuns', 'CRBI', 'CWalks', 'PutOuts', 'Assists', 'Errors', 'League', 'Division', 'NewLeague']\n",
    "\n",
    "## Cross Validation\n",
    "X_train, X_test, y_train, y_test = train_test_split(X, y, test_size = 0.2)\n",
    "train = pd.concat([X_train, y_train], axis = 1)\n",
    "\n",
    "mod_full = smf.ols('Salary ~ AtBat + Hits + HmRun + Runs + RBI + Walks + Years + CAtBat + CHits + CHmRun + CRuns + CRBI + CWalks + PutOuts + Assists + Errors + League + Division + NewLeague', data = train).fit()\n",
    "pred_full = mod_full.predict(X_test)\n",
    "RMSE1_full = np.sqrt(np.mean((y_test - pred_full)**2))\n",
    "RMSE1_full"
   ]
  },
  {
   "cell_type": "code",
   "execution_count": 14,
   "metadata": {},
   "outputs": [
    {
     "data": {
      "text/plain": [
       "263.22559728701634"
      ]
     },
     "execution_count": 14,
     "metadata": {},
     "output_type": "execute_result"
    }
   ],
   "source": [
    "m_optim = smf.ols('Salary ~ AtBat + Hits + Walks + CAtBat + CRuns + CRBI + CWalks + PutOuts + Assists + League + Division', data = train).fit()\n",
    "pred_optim = m_optim.predict(X_test)\n",
    "RMSE2_optim = np.sqrt(np.mean((y_test - pred_optim)**2))\n",
    "RMSE2_optim"
   ]
  },
  {
   "cell_type": "code",
   "execution_count": 15,
   "metadata": {},
   "outputs": [
    {
     "data": {
      "text/plain": [
       "261.2086780348063"
      ]
     },
     "execution_count": 15,
     "metadata": {},
     "output_type": "execute_result"
    }
   ],
   "source": [
    "m_best_step = smf.ols('Salary ~ AtBat + Hits + Walks + CAtBat + CRuns + CRBI + CWalks + PutOuts + Assists + Division', data = train).fit()\n",
    "pred_best_step = m_best_step.predict(X_test)\n",
    "RMSE_best_step = np.sqrt(np.mean((y_test - pred_best_step)**2))\n",
    "RMSE_best_step"
   ]
  },
  {
   "cell_type": "markdown",
   "metadata": {},
   "source": [
    "***Note here that I did not need to find the BIC myself. Prof. Stevens told us what those variables were, but my calculations are confirmation, I guess :)"
   ]
  },
  {
   "cell_type": "code",
   "execution_count": 16,
   "metadata": {},
   "outputs": [
    {
     "data": {
      "text/plain": [
       "[1] 6\n"
      ]
     },
     "metadata": {},
     "output_type": "display_data"
    }
   ],
   "source": [
    "%%R\n",
    "##We must use R with the bic on all poss summ\n",
    "##we want to minimize the -logL\n",
    "min_idxBIC <- which.min(all_poss_summ$bic)\n",
    "min_idxBIC"
   ]
  },
  {
   "cell_type": "code",
   "execution_count": 17,
   "metadata": {},
   "outputs": [
    {
     "data": {
      "image/png": "[encoded data removed]"
     },
     "metadata": {},
     "output_type": "display_data"
    }
   ],
   "source": [
    "%%R\n",
    "plot(all_poss_summ$bic, type = \"l\", xlab = \"Number of Explanatory Variables\", ylab = bquote(\"BIC\"), main = \"Optimal Number of Explanatory Variables\")\n",
    "points(all_poss_summ$bic, pch = 16)\n",
    "points(x = min_idxBIC, y = all_poss_summ$bic[min_idxBIC], pch = 16, col = \"red\")"
   ]
  },
  {
   "cell_type": "code",
   "execution_count": 18,
   "metadata": {},
   "outputs": [
    {
     "data": {
      "text/plain": [
       "(Intercept)       AtBat        Hits       HmRun        Runs         RBI \n",
       "       TRUE        TRUE        TRUE       FALSE       FALSE       FALSE \n",
       "      Walks       Years      CAtBat       CHits      CHmRun       CRuns \n",
       "       TRUE       FALSE       FALSE       FALSE       FALSE       FALSE \n",
       "       CRBI      CWalks     LeagueN   DivisionW     PutOuts     Assists \n",
       "       TRUE       FALSE       FALSE        TRUE        TRUE       FALSE \n",
       "     Errors  NewLeagueN \n",
       "      FALSE       FALSE \n"
      ]
     },
     "metadata": {},
     "output_type": "display_data"
    }
   ],
   "source": [
    "%%R\n",
    "##This tells us we want the following 6 variables in the model\n",
    "all_poss_summ$which[min_idxBIC,]"
   ]
  },
  {
   "cell_type": "markdown",
   "metadata": {},
   "source": [
    "It looks like AtBat, Hits, Walks, CRBI, Division, and PutOuts are the variables we should have in the model."
   ]
  },
  {
   "cell_type": "code",
   "execution_count": 19,
   "metadata": {},
   "outputs": [
    {
     "data": {
      "text/plain": [
       "260.2940168201846"
      ]
     },
     "execution_count": 19,
     "metadata": {},
     "output_type": "execute_result"
    }
   ],
   "source": [
    "### \n",
    "m_best_BIC = smf.ols('Salary ~ AtBat + Hits + Walks + CRBI + PutOuts + Division', data = train).fit()\n",
    "pred_best_BIC = m_best_BIC.predict(X_test)\n",
    "RMSE3_best_BIC = np.sqrt(np.mean((y_test - pred_best_BIC)**2))\n",
    "RMSE3_best_BIC"
   ]
  },
  {
   "cell_type": "code",
   "execution_count": 20,
   "metadata": {},
   "outputs": [
    {
     "data": {
      "text/plain": [
       "[1] 305.7212\n"
      ]
     },
     "metadata": {},
     "output_type": "display_data"
    }
   ],
   "source": [
    "%%R\n",
    "##part f\n",
    "library(ISLR)\n",
    "trn <- sample(x = c(rep(TRUE, round(0.8 * n)), rep(FALSE, n-round(0.8*n))), size = n, replace = FALSE)\n",
    "train <- hitters[trn,]\n",
    "tst <- !trn \n",
    "test <- hitters[tst,]\n",
    "\n",
    "mFull <- lm(Salary ~ ., data = train)\n",
    "predFull <- predict(object = mFull, newdata = test)\n",
    "RMSEFull <- sqrt(mean((test$Salary - predFull)^2))\n",
    "RMSEFull"
   ]
  },
  {
   "cell_type": "code",
   "execution_count": 21,
   "metadata": {},
   "outputs": [
    {
     "data": {
      "text/plain": [
       "[1] 297.2808\n"
      ]
     },
     "metadata": {},
     "output_type": "display_data"
    }
   ],
   "source": [
    "%%R\n",
    "\n",
    "mOptim <- lm(Salary ~ AtBat + Hits + Walks + CAtBat + CRuns + CRBI + CWalks + PutOuts + Assists + Division + League, data = train)\n",
    "predOptim <- predict(object = mOptim, newdata = test)\n",
    "RMSEOptim <- sqrt(mean((test$Salary - predOptim)^2))\n",
    "RMSEOptim"
   ]
  },
  {
   "cell_type": "code",
   "execution_count": 22,
   "metadata": {},
   "outputs": [
    {
     "data": {
      "text/plain": [
       "[1] 299.5452\n"
      ]
     },
     "metadata": {},
     "output_type": "display_data"
    }
   ],
   "source": [
    "%%R\n",
    "\n",
    "mStep <- lm(Salary ~ AtBat + Hits + Walks + CAtBat + CRuns + CRBI + CWalks + PutOuts + Assists + Division, data = train)\n",
    "predStep <- predict(object = mStep, newdata = test)\n",
    "RMSEStep <- sqrt(mean((test$Salary - predStep)^2))\n",
    "RMSEStep"
   ]
  },
  {
   "cell_type": "code",
   "execution_count": 23,
   "metadata": {},
   "outputs": [
    {
     "data": {
      "text/plain": [
       "[1] 296.8516\n"
      ]
     },
     "metadata": {},
     "output_type": "display_data"
    }
   ],
   "source": [
    "%%R\n",
    "\n",
    "mBIC <- lm(Salary ~ AtBat + Hits + Walks + CRBI + PutOuts + Division, data = train)\n",
    "predBIC <- predict(object = mBIC, newdata = test)\n",
    "RMSEBIC <- sqrt(mean((test$Salary - predBIC)^2))\n",
    "RMSEBIC"
   ]
  },
  {
   "cell_type": "markdown",
   "metadata": {},
   "source": [
    "It's honestly really hard to tell which is the best using plain cross validation. The full model is always the worst, but the other three seem to take turns having the lowest RMSE. The values fluctuate pretty wildly with different random sets of train and test (from 210 ish to 400 some), and there is not one model that consistently has the lowest RMSE."
   ]
  },
  {
   "cell_type": "code",
   "execution_count": 24,
   "metadata": {},
   "outputs": [
    {
     "data": {
      "text/plain": [
       "346.9856367760651"
      ]
     },
     "execution_count": 24,
     "metadata": {},
     "output_type": "execute_result"
    }
   ],
   "source": [
    "#g\n",
    "## K-fold Cross Validation\n",
    "#full\n",
    "numfolds = 10\n",
    "kf = KFold(n_splits=numfolds, shuffle = True)\n",
    "MSE = 0\n",
    "for train_indices, test_indices in kf.split(X):\n",
    "    train_X = X.iloc[train_indices, :]; train_y = y[train_indices]\n",
    "    test_X = X.iloc[test_indices, :]; test_y = y[test_indices]\n",
    "    training = pd.concat([train_X, train_y], axis = 1)\n",
    "    m = smf.ols('Salary ~ AtBat + Hits + HmRun + Runs + RBI + Walks + Years + CAtBat + CHits + CHmRun + CRuns + CRBI + CWalks + PutOuts + Assists + Errors + League + Division + NewLeague', data = training).fit()   \n",
    "    pred = m.predict(test_X)\n",
    "    MSE = MSE + np.mean((test_y - pred)**2)\n",
    "RMSE1 = np.sqrt(MSE/numfolds)\n",
    "RMSE1"
   ]
  },
  {
   "cell_type": "code",
   "execution_count": 25,
   "metadata": {},
   "outputs": [
    {
     "data": {
      "text/plain": [
       "329.01199556924666"
      ]
     },
     "execution_count": 25,
     "metadata": {},
     "output_type": "execute_result"
    }
   ],
   "source": [
    "#optim\n",
    "numfolds = 10\n",
    "kf = KFold(n_splits=numfolds, shuffle = True)\n",
    "MSE = 0\n",
    "for train_indices, test_indices in kf.split(X):\n",
    "    train_X = X.iloc[train_indices, :]; train_y = y[train_indices]\n",
    "    test_X = X.iloc[test_indices, :]; test_y = y[test_indices]\n",
    "    training = pd.concat([train_X, train_y], axis = 1)\n",
    "    m = smf.ols('Salary ~ AtBat + Hits + Walks + CAtBat + CRuns + CRBI + CWalks + PutOuts + Assists + Division + League', data = training).fit()   \n",
    "    pred = m.predict(test_X)\n",
    "    MSE = MSE + np.mean((test_y - pred)**2)\n",
    "RMSE2 = np.sqrt(MSE/numfolds)\n",
    "RMSE2"
   ]
  },
  {
   "cell_type": "code",
   "execution_count": 26,
   "metadata": {},
   "outputs": [
    {
     "name": "stderr",
     "output_type": "stream",
     "text": [
      "/anaconda3/lib/python3.6/site-packages/ipykernel_launcher.py:6: DeprecationWarning: \n",
      ".ix is deprecated. Please use\n",
      ".loc for label based indexing or\n",
      ".iloc for positional indexing\n",
      "\n",
      "See the documentation here:\n",
      "http://pandas.pydata.org/pandas-docs/stable/indexing.html#ix-indexer-is-deprecated\n",
      "  \n",
      "/anaconda3/lib/python3.6/site-packages/ipykernel_launcher.py:7: DeprecationWarning: \n",
      ".ix is deprecated. Please use\n",
      ".loc for label based indexing or\n",
      ".iloc for positional indexing\n",
      "\n",
      "See the documentation here:\n",
      "http://pandas.pydata.org/pandas-docs/stable/indexing.html#ix-indexer-is-deprecated\n",
      "  import sys\n"
     ]
    },
    {
     "data": {
      "text/plain": [
       "325.1109143901445"
      ]
     },
     "execution_count": 26,
     "metadata": {},
     "output_type": "execute_result"
    }
   ],
   "source": [
    "#step\n",
    "numfolds = 10\n",
    "kf = KFold(n_splits=numfolds, shuffle = True)\n",
    "MSE = 0\n",
    "for train_indices, test_indices in kf.split(X):\n",
    "    train_X = X.ix[train_indices, :]; train_y = y[train_indices]\n",
    "    test_X = X.ix[test_indices, :]; test_y = y[test_indices]\n",
    "    training = pd.concat([train_X, train_y], axis = 1)\n",
    "    m = smf.ols('Salary ~ AtBat + Hits + Walks + CAtBat + CRuns + CRBI + CWalks + PutOuts + Assists + Division', data = training).fit()   \n",
    "    pred = m.predict(test_X)\n",
    "    MSE = MSE + np.mean((test_y - pred)**2)\n",
    "RMSE3 = np.sqrt(MSE/numfolds)\n",
    "RMSE3"
   ]
  },
  {
   "cell_type": "code",
   "execution_count": 27,
   "metadata": {},
   "outputs": [
    {
     "name": "stderr",
     "output_type": "stream",
     "text": [
      "/anaconda3/lib/python3.6/site-packages/ipykernel_launcher.py:6: DeprecationWarning: \n",
      ".ix is deprecated. Please use\n",
      ".loc for label based indexing or\n",
      ".iloc for positional indexing\n",
      "\n",
      "See the documentation here:\n",
      "http://pandas.pydata.org/pandas-docs/stable/indexing.html#ix-indexer-is-deprecated\n",
      "  \n",
      "/anaconda3/lib/python3.6/site-packages/ipykernel_launcher.py:7: DeprecationWarning: \n",
      ".ix is deprecated. Please use\n",
      ".loc for label based indexing or\n",
      ".iloc for positional indexing\n",
      "\n",
      "See the documentation here:\n",
      "http://pandas.pydata.org/pandas-docs/stable/indexing.html#ix-indexer-is-deprecated\n",
      "  import sys\n"
     ]
    },
    {
     "data": {
      "text/plain": [
       "327.1714421758377"
      ]
     },
     "execution_count": 27,
     "metadata": {},
     "output_type": "execute_result"
    }
   ],
   "source": [
    "#bic\n",
    "numfolds = 10\n",
    "kf = KFold(n_splits=numfolds, shuffle = True)\n",
    "MSE = 0\n",
    "for train_indices, test_indices in kf.split(X):\n",
    "    train_X = X.ix[train_indices, :]; train_y = y[train_indices]\n",
    "    test_X = X.ix[test_indices, :]; test_y = y[test_indices]\n",
    "    training = pd.concat([train_X, train_y], axis = 1)\n",
    "    m = smf.ols('Salary ~ AtBat + Hits + Walks + CRBI + PutOuts + Division', data = training).fit()   \n",
    "    pred = m.predict(test_X)\n",
    "    MSE = MSE + np.mean((test_y - pred)**2)\n",
    "RMSE4 = np.sqrt(MSE/numfolds)\n",
    "RMSE4"
   ]
  },
  {
   "cell_type": "code",
   "execution_count": 28,
   "metadata": {},
   "outputs": [
    {
     "name": "stderr",
     "output_type": "stream",
     "text": [
      "/anaconda3/lib/python3.6/site-packages/rpy2/rinterface/__init__.py:146: RRuntimeWarning: \n",
      "Attaching package: ‘boot’\n",
      "\n",
      "\n",
      "  warnings.warn(x, RRuntimeWarning)\n",
      "/anaconda3/lib/python3.6/site-packages/rpy2/rinterface/__init__.py:146: RRuntimeWarning: The following object is masked from ‘package:car’:\n",
      "\n",
      "    logit\n",
      "\n",
      "\n",
      "  warnings.warn(x, RRuntimeWarning)\n"
     ]
    },
    {
     "data": {
      "text/plain": [
       "[1] 340.0029\n"
      ]
     },
     "metadata": {},
     "output_type": "display_data"
    }
   ],
   "source": [
    "%%R\n",
    "\n",
    "#g\n",
    "## K-fold Cross-Validation\n",
    "#full\n",
    "library(boot)\n",
    "m1 <- glm(Salary ~ ., data = hitters)\n",
    "RMSE1 <- sqrt((cv.glm(hitters, m1, K = 10)$delta)[1])\n",
    "RMSE1"
   ]
  },
  {
   "cell_type": "code",
   "execution_count": 29,
   "metadata": {},
   "outputs": [
    {
     "data": {
      "text/plain": [
       "[1] 331.6135\n"
      ]
     },
     "metadata": {},
     "output_type": "display_data"
    }
   ],
   "source": [
    "%%R\n",
    "#optim\n",
    "m2 <- glm(Salary ~ AtBat + Hits + Walks + CAtBat + CRuns + CRBI + CWalks + PutOuts + Assists + Division + League, data = hitters)\n",
    "RMSE2 <- sqrt((cv.glm(hitters, m2, K = 10)$delta)[1])\n",
    "RMSE2"
   ]
  },
  {
   "cell_type": "code",
   "execution_count": 30,
   "metadata": {},
   "outputs": [
    {
     "data": {
      "text/plain": [
       "[1] 328.6117\n"
      ]
     },
     "metadata": {},
     "output_type": "display_data"
    }
   ],
   "source": [
    "%%R\n",
    "#step\n",
    "m3 <- glm(Salary ~ AtBat + Hits + Walks + CAtBat + CRuns + CRBI + CWalks + PutOuts + Assists + Division, data = hitters)\n",
    "RMSE3 <- sqrt((cv.glm(hitters, m3, K = 10)$delta)[1])\n",
    "RMSE3"
   ]
  },
  {
   "cell_type": "code",
   "execution_count": 31,
   "metadata": {},
   "outputs": [
    {
     "data": {
      "text/plain": [
       "[1] 331.8784\n"
      ]
     },
     "metadata": {},
     "output_type": "display_data"
    }
   ],
   "source": [
    "%%R\n",
    "#bic\n",
    "m4 <- glm(Salary ~ AtBat + Hits + Walks + CRBI + PutOuts + Division, data = hitters)\n",
    "RMSE4 <- sqrt((cv.glm(hitters, m4, K = 10)$delta)[1])\n",
    "RMSE4"
   ]
  },
  {
   "cell_type": "markdown",
   "metadata": {},
   "source": [
    "Stepwise Selection Model appears to be the best. The K-Fold Validation method shows the Stepwise RMSE as about 0.5 (for an average random generation of training/test sets) less than that of the Optimal model. Since RMSE is a measure of how close the observed values are to the model's predicted values, a low RMSE indicates the model will have a good predictive accuracy."
   ]
  },
  {
   "cell_type": "markdown",
   "metadata": {},
   "source": [
    "h)\n",
    "\n",
    "K-Fold Validation is much more reliable than Cross Validation (due to the potentially large variability of the latter), and it actually gives us consistent evidence that Stepwise Selection Model is the best choice for us to use. The K-fold validation estimates of RMSE are more stable since we take multiple measurements of the MSE and average them, so we can trust K-fold more and believe they more accurately depict the predictive accuracy of the model."
   ]
  },
  {
   "cell_type": "markdown",
   "metadata": {},
   "source": [
    "i)\n",
    "\n",
    "I would probably want to use the Stepwise Selection Model if I were going for predictive accuracy. Even though SS Model has fewer variables than Optim Model, the one additional variable in Optim (League) must not be important enough to actually make a difference in the predictive accuracy. Also, the Stepwise Selection process showed that adding League to the model would raise the AIC; AIC quantifies the goodness of fit of the model while penalizing unneeded complexity, so the lower AIC of the SS Model (without League) as compared to the higher AIC of the model with League (Optim) tells us that adding League is more of a burden than a help in terms of simplicity and calculations."
   ]
  },
  {
   "cell_type": "code",
   "execution_count": null,
   "metadata": {},
   "outputs": [],
   "source": []
  }
 ],
 "metadata": {
  "kernelspec": {
   "display_name": "Python 2",
   "language": "python",
   "name": "python2"
  },
  "language_info": {
   "codemirror_mode": {
    "name": "ipython",
    "version": 2
   },
   "file_extension": ".py",
   "mimetype": "text/x-python",
   "name": "python",
   "nbconvert_exporter": "python",
   "pygments_lexer": "ipython2",
   "version": "2.7.15"
  }
 },
 "nbformat": 4,
 "nbformat_minor": 2
}
